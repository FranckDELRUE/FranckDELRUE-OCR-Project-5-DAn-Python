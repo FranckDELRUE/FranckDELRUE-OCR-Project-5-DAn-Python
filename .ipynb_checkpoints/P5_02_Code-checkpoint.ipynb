{
 "cells": [
  {
   "cell_type": "markdown",
   "metadata": {},
   "source": [
    "# Projet 5 - Produisez une étude de marché"
   ]
  },
  {
   "cell_type": "markdown",
   "metadata": {},
   "source": [
    "## Partie I - Importation des données"
   ]
  },
  {
   "cell_type": "markdown",
   "metadata": {},
   "source": [
    "### Importation des données"
   ]
  },
  {
   "cell_type": "code",
   "execution_count": 1,
   "metadata": {},
   "outputs": [],
   "source": [
    "import pandas as pd\n",
    "import seaborn as sns\n",
    "import matplotlib.pyplot as plt\n",
    "import numpy as np\n",
    "import P5_03_OCR5 as OCR\n",
    "\n",
    "from scipy.cluster.hierarchy import linkage, fcluster, cophenet, dendrogram\n",
    "\n",
    "from sklearn import preprocessing\n",
    "from sklearn import decomposition\n",
    "\n",
    "from scipy.spatial.distance import pdist\n",
    "\n",
    "from scipy.stats import pearsonr\n",
    "from scipy.stats import spearmanr\n",
    "from scipy.stats import shapiro\n",
    "\n",
    "from sklearn.cluster import KMeans\n",
    "from sklearn.metrics import silhouette_score\n",
    "\n",
    "from statsmodels.graphics.gofplots import qqplot\n",
    "\n",
    "%matplotlib inline\n",
    "\n",
    "sns.set(color_codes = True)\n",
    "#sns.set(style=\"whitegrid\")"
   ]
  },
  {
   "cell_type": "code",
   "execution_count": 2,
   "metadata": {},
   "outputs": [],
   "source": [
    "_FONTSIZE_ = 18\n",
    "_FONTSIZETITLE_ = 24\n",
    "\n",
    "params = {'legend.fontsize': 'x-large',\n",
    "          'figure.figsize': (20, 10),\n",
    "         'axes.labelsize': 'large',\n",
    "         'axes.titlesize':'x-large',\n",
    "         'xtick.labelsize':'large',\n",
    "         'ytick.labelsize':'large'}\n",
    "\n",
    "meanprops = {'marker':'o', 'markeredgecolor':'black',\n",
    "            'markerfacecolor':'firebrick'}"
   ]
  },
  {
   "cell_type": "markdown",
   "metadata": {},
   "source": [
    "### Nettoyer des données"
   ]
  },
  {
   "cell_type": "code",
   "execution_count": 3,
   "metadata": {},
   "outputs": [],
   "source": [
    "df_data_raw = pd.read_csv('./Data/data_raw.csv',encoding = \"ISO-8859-1\")"
   ]
  },
  {
   "cell_type": "markdown",
   "metadata": {},
   "source": [
    "Nous enlevons les données concernants une nsemble de pays (Code Zone supérieur à 5000)"
   ]
  },
  {
   "cell_type": "code",
   "execution_count": 4,
   "metadata": {},
   "outputs": [],
   "source": [
    "df_data = df_data_raw[~(df_data_raw['Code zone'] >= 5000)]"
   ]
  },
  {
   "cell_type": "markdown",
   "metadata": {},
   "source": [
    "Nous enlevons la Chine qui corresponds à un autre ensemble de pays (Code Zone : 351)"
   ]
  },
  {
   "cell_type": "code",
   "execution_count": 5,
   "metadata": {},
   "outputs": [],
   "source": [
    "df_data = df_data[~(df_data['Code zone'] == 351)]"
   ]
  },
  {
   "cell_type": "markdown",
   "metadata": {},
   "source": [
    "### Préparation du tableau"
   ]
  },
  {
   "cell_type": "code",
   "execution_count": 6,
   "metadata": {},
   "outputs": [],
   "source": [
    "codeElementAGarder = [511, 664, 674]\n",
    "codeProduitAGarder = [2501, 2901, 2941]"
   ]
  },
  {
   "cell_type": "code",
   "execution_count": 7,
   "metadata": {},
   "outputs": [],
   "source": [
    "df_data_cleaned = df_data.copy()"
   ]
  },
  {
   "cell_type": "code",
   "execution_count": 8,
   "metadata": {},
   "outputs": [],
   "source": [
    "df_data_cleaned = df_data[df_data['Code Produit'].isin(codeProduitAGarder)]\n",
    "df_data_cleaned = df_data_cleaned[df_data_cleaned['Code Élément'].isin(codeElementAGarder)]"
   ]
  },
  {
   "cell_type": "code",
   "execution_count": 9,
   "metadata": {},
   "outputs": [],
   "source": [
    "df_data_cleaned['Difference de population'] = df_data_cleaned['Y2017'] / df_data_cleaned['Y2014'] * 100"
   ]
  },
  {
   "cell_type": "code",
   "execution_count": 10,
   "metadata": {},
   "outputs": [],
   "source": [
    "df_data_cleaned = OCR.ligneToColonne(df_data_cleaned, [2901, 664, 'Disponibilité alimentaire Kcal'])\n",
    "df_data_cleaned = OCR.ligneToColonne(df_data_cleaned, [2901, 674, 'Disponibilité alimentaire Protéine'])\n",
    "df_data_cleaned = OCR.ligneToColonne(df_data_cleaned, [2941, 674, 'Proportion Protéine Animale'])"
   ]
  },
  {
   "cell_type": "code",
   "execution_count": 11,
   "metadata": {},
   "outputs": [],
   "source": [
    "df_data_cleaned['Proportion Protéine Animale'] /= df_data_cleaned['Disponibilité alimentaire Protéine']"
   ]
  },
  {
   "cell_type": "code",
   "execution_count": 12,
   "metadata": {},
   "outputs": [],
   "source": [
    "filt = df_data_cleaned['Code Élément'] == 511\n",
    "colonne = ['Zone', 'Difference de population', 'Disponibilité alimentaire Kcal', 'Disponibilité alimentaire Protéine', 'Proportion Protéine Animale']\n",
    "df_data_cleaned = df_data_cleaned.loc[filt, colonne]"
   ]
  },
  {
   "cell_type": "code",
   "execution_count": 13,
   "metadata": {},
   "outputs": [
    {
     "data": {
      "text/html": [
       "<div>\n",
       "<style scoped>\n",
       "    .dataframe tbody tr th:only-of-type {\n",
       "        vertical-align: middle;\n",
       "    }\n",
       "\n",
       "    .dataframe tbody tr th {\n",
       "        vertical-align: top;\n",
       "    }\n",
       "\n",
       "    .dataframe thead th {\n",
       "        text-align: right;\n",
       "    }\n",
       "</style>\n",
       "<table border=\"1\" class=\"dataframe\">\n",
       "  <thead>\n",
       "    <tr style=\"text-align: right;\">\n",
       "      <th></th>\n",
       "      <th>Zone</th>\n",
       "      <th>Difference de population</th>\n",
       "      <th>Disponibilité alimentaire Kcal</th>\n",
       "      <th>Disponibilité alimentaire Protéine</th>\n",
       "      <th>Proportion Protéine Animale</th>\n",
       "    </tr>\n",
       "  </thead>\n",
       "  <tbody>\n",
       "    <tr>\n",
       "      <th>0</th>\n",
       "      <td>Afghanistan</td>\n",
       "      <td>108.766110</td>\n",
       "      <td>2000.0</td>\n",
       "      <td>54.09</td>\n",
       "      <td>0.195045</td>\n",
       "    </tr>\n",
       "    <tr>\n",
       "      <th>5</th>\n",
       "      <td>Afrique du Sud</td>\n",
       "      <td>104.520316</td>\n",
       "      <td>2994.0</td>\n",
       "      <td>83.41</td>\n",
       "      <td>0.414339</td>\n",
       "    </tr>\n",
       "    <tr>\n",
       "      <th>10</th>\n",
       "      <td>Albanie</td>\n",
       "      <td>99.581190</td>\n",
       "      <td>3400.0</td>\n",
       "      <td>119.55</td>\n",
       "      <td>0.554914</td>\n",
       "    </tr>\n",
       "    <tr>\n",
       "      <th>15</th>\n",
       "      <td>Algérie</td>\n",
       "      <td>106.334189</td>\n",
       "      <td>3349.0</td>\n",
       "      <td>92.91</td>\n",
       "      <td>0.276719</td>\n",
       "    </tr>\n",
       "    <tr>\n",
       "      <th>20</th>\n",
       "      <td>Allemagne</td>\n",
       "      <td>101.483148</td>\n",
       "      <td>3556.0</td>\n",
       "      <td>104.20</td>\n",
       "      <td>0.605374</td>\n",
       "    </tr>\n",
       "    <tr>\n",
       "      <th>...</th>\n",
       "      <td>...</td>\n",
       "      <td>...</td>\n",
       "      <td>...</td>\n",
       "      <td>...</td>\n",
       "      <td>...</td>\n",
       "    </tr>\n",
       "    <tr>\n",
       "      <th>835</th>\n",
       "      <td>Venezuela (République bolivarienne du)</td>\n",
       "      <td>97.868087</td>\n",
       "      <td>2247.0</td>\n",
       "      <td>56.28</td>\n",
       "      <td>0.450782</td>\n",
       "    </tr>\n",
       "    <tr>\n",
       "      <th>840</th>\n",
       "      <td>Viet Nam</td>\n",
       "      <td>103.147616</td>\n",
       "      <td>2938.0</td>\n",
       "      <td>90.03</td>\n",
       "      <td>0.408864</td>\n",
       "    </tr>\n",
       "    <tr>\n",
       "      <th>845</th>\n",
       "      <td>Yémen</td>\n",
       "      <td>107.788761</td>\n",
       "      <td>2063.0</td>\n",
       "      <td>53.23</td>\n",
       "      <td>0.200263</td>\n",
       "    </tr>\n",
       "    <tr>\n",
       "      <th>850</th>\n",
       "      <td>Zambie</td>\n",
       "      <td>109.440453</td>\n",
       "      <td>2013.0</td>\n",
       "      <td>59.09</td>\n",
       "      <td>0.197834</td>\n",
       "    </tr>\n",
       "    <tr>\n",
       "      <th>855</th>\n",
       "      <td>Zimbabwe</td>\n",
       "      <td>104.783204</td>\n",
       "      <td>2173.0</td>\n",
       "      <td>51.21</td>\n",
       "      <td>0.226909</td>\n",
       "    </tr>\n",
       "  </tbody>\n",
       "</table>\n",
       "<p>172 rows × 5 columns</p>\n",
       "</div>"
      ],
      "text/plain": [
       "                                       Zone  Difference de population  \\\n",
       "0                               Afghanistan                108.766110   \n",
       "5                            Afrique du Sud                104.520316   \n",
       "10                                  Albanie                 99.581190   \n",
       "15                                  Algérie                106.334189   \n",
       "20                                Allemagne                101.483148   \n",
       "..                                      ...                       ...   \n",
       "835  Venezuela (République bolivarienne du)                 97.868087   \n",
       "840                                Viet Nam                103.147616   \n",
       "845                                   Yémen                107.788761   \n",
       "850                                  Zambie                109.440453   \n",
       "855                                Zimbabwe                104.783204   \n",
       "\n",
       "     Disponibilité alimentaire Kcal  Disponibilité alimentaire Protéine  \\\n",
       "0                            2000.0                               54.09   \n",
       "5                            2994.0                               83.41   \n",
       "10                           3400.0                              119.55   \n",
       "15                           3349.0                               92.91   \n",
       "20                           3556.0                              104.20   \n",
       "..                              ...                                 ...   \n",
       "835                          2247.0                               56.28   \n",
       "840                          2938.0                               90.03   \n",
       "845                          2063.0                               53.23   \n",
       "850                          2013.0                               59.09   \n",
       "855                          2173.0                               51.21   \n",
       "\n",
       "     Proportion Protéine Animale  \n",
       "0                       0.195045  \n",
       "5                       0.414339  \n",
       "10                      0.554914  \n",
       "15                      0.276719  \n",
       "20                      0.605374  \n",
       "..                           ...  \n",
       "835                     0.450782  \n",
       "840                     0.408864  \n",
       "845                     0.200263  \n",
       "850                     0.197834  \n",
       "855                     0.226909  \n",
       "\n",
       "[172 rows x 5 columns]"
      ]
     },
     "execution_count": 13,
     "metadata": {},
     "output_type": "execute_result"
    }
   ],
   "source": [
    "df_data_cleaned"
   ]
  },
  {
   "cell_type": "markdown",
   "metadata": {},
   "source": [
    "## Partie II - Réalisation du dendrogramme"
   ]
  },
  {
   "cell_type": "markdown",
   "metadata": {},
   "source": [
    "### Importation des données nettoyés"
   ]
  },
  {
   "cell_type": "code",
   "execution_count": 14,
   "metadata": {},
   "outputs": [],
   "source": [
    "data = pd.read_csv('./Export/data.csv', index_col = 0)"
   ]
  },
  {
   "cell_type": "code",
   "execution_count": 15,
   "metadata": {},
   "outputs": [
    {
     "data": {
      "text/html": [
       "<div>\n",
       "<style scoped>\n",
       "    .dataframe tbody tr th:only-of-type {\n",
       "        vertical-align: middle;\n",
       "    }\n",
       "\n",
       "    .dataframe tbody tr th {\n",
       "        vertical-align: top;\n",
       "    }\n",
       "\n",
       "    .dataframe thead th {\n",
       "        text-align: right;\n",
       "    }\n",
       "</style>\n",
       "<table border=\"1\" class=\"dataframe\">\n",
       "  <thead>\n",
       "    <tr style=\"text-align: right;\">\n",
       "      <th></th>\n",
       "      <th>Difference de population</th>\n",
       "      <th>Disponibilité alimentaire Kcal</th>\n",
       "      <th>Disponibilité alimentaire Protéine</th>\n",
       "      <th>Proportion Protéine Animale</th>\n",
       "    </tr>\n",
       "    <tr>\n",
       "      <th>Zone</th>\n",
       "      <th></th>\n",
       "      <th></th>\n",
       "      <th></th>\n",
       "      <th></th>\n",
       "    </tr>\n",
       "  </thead>\n",
       "  <tbody>\n",
       "    <tr>\n",
       "      <th>Afghanistan</th>\n",
       "      <td>8.059596</td>\n",
       "      <td>2000.0</td>\n",
       "      <td>54.09</td>\n",
       "      <td>0.195045</td>\n",
       "    </tr>\n",
       "    <tr>\n",
       "      <th>Afrique du Sud</th>\n",
       "      <td>4.324821</td>\n",
       "      <td>2994.0</td>\n",
       "      <td>83.41</td>\n",
       "      <td>0.414339</td>\n",
       "    </tr>\n",
       "    <tr>\n",
       "      <th>Albanie</th>\n",
       "      <td>-0.420572</td>\n",
       "      <td>3400.0</td>\n",
       "      <td>119.55</td>\n",
       "      <td>0.554914</td>\n",
       "    </tr>\n",
       "    <tr>\n",
       "      <th>Algérie</th>\n",
       "      <td>5.956869</td>\n",
       "      <td>3349.0</td>\n",
       "      <td>92.91</td>\n",
       "      <td>0.276719</td>\n",
       "    </tr>\n",
       "    <tr>\n",
       "      <th>Allemagne</th>\n",
       "      <td>1.461473</td>\n",
       "      <td>3556.0</td>\n",
       "      <td>104.20</td>\n",
       "      <td>0.605374</td>\n",
       "    </tr>\n",
       "    <tr>\n",
       "      <th>...</th>\n",
       "      <td>...</td>\n",
       "      <td>...</td>\n",
       "      <td>...</td>\n",
       "      <td>...</td>\n",
       "    </tr>\n",
       "    <tr>\n",
       "      <th>Venezuela (République bolivarienne du)</th>\n",
       "      <td>-2.178354</td>\n",
       "      <td>2247.0</td>\n",
       "      <td>56.28</td>\n",
       "      <td>0.450782</td>\n",
       "    </tr>\n",
       "    <tr>\n",
       "      <th>Viet Nam</th>\n",
       "      <td>3.051565</td>\n",
       "      <td>2938.0</td>\n",
       "      <td>90.03</td>\n",
       "      <td>0.408864</td>\n",
       "    </tr>\n",
       "    <tr>\n",
       "      <th>Yémen</th>\n",
       "      <td>7.225949</td>\n",
       "      <td>2063.0</td>\n",
       "      <td>53.23</td>\n",
       "      <td>0.200263</td>\n",
       "    </tr>\n",
       "    <tr>\n",
       "      <th>Zambie</th>\n",
       "      <td>8.626110</td>\n",
       "      <td>2013.0</td>\n",
       "      <td>59.09</td>\n",
       "      <td>0.197834</td>\n",
       "    </tr>\n",
       "    <tr>\n",
       "      <th>Zimbabwe</th>\n",
       "      <td>4.564857</td>\n",
       "      <td>2173.0</td>\n",
       "      <td>51.21</td>\n",
       "      <td>0.226909</td>\n",
       "    </tr>\n",
       "  </tbody>\n",
       "</table>\n",
       "<p>172 rows × 4 columns</p>\n",
       "</div>"
      ],
      "text/plain": [
       "                                        Difference de population  \\\n",
       "Zone                                                               \n",
       "Afghanistan                                             8.059596   \n",
       "Afrique du Sud                                          4.324821   \n",
       "Albanie                                                -0.420572   \n",
       "Algérie                                                 5.956869   \n",
       "Allemagne                                               1.461473   \n",
       "...                                                          ...   \n",
       "Venezuela (République bolivarienne du)                 -2.178354   \n",
       "Viet Nam                                                3.051565   \n",
       "Yémen                                                   7.225949   \n",
       "Zambie                                                  8.626110   \n",
       "Zimbabwe                                                4.564857   \n",
       "\n",
       "                                        Disponibilité alimentaire Kcal  \\\n",
       "Zone                                                                     \n",
       "Afghanistan                                                     2000.0   \n",
       "Afrique du Sud                                                  2994.0   \n",
       "Albanie                                                         3400.0   \n",
       "Algérie                                                         3349.0   \n",
       "Allemagne                                                       3556.0   \n",
       "...                                                                ...   \n",
       "Venezuela (République bolivarienne du)                          2247.0   \n",
       "Viet Nam                                                        2938.0   \n",
       "Yémen                                                           2063.0   \n",
       "Zambie                                                          2013.0   \n",
       "Zimbabwe                                                        2173.0   \n",
       "\n",
       "                                        Disponibilité alimentaire Protéine  \\\n",
       "Zone                                                                         \n",
       "Afghanistan                                                          54.09   \n",
       "Afrique du Sud                                                       83.41   \n",
       "Albanie                                                             119.55   \n",
       "Algérie                                                              92.91   \n",
       "Allemagne                                                           104.20   \n",
       "...                                                                    ...   \n",
       "Venezuela (République bolivarienne du)                               56.28   \n",
       "Viet Nam                                                             90.03   \n",
       "Yémen                                                                53.23   \n",
       "Zambie                                                               59.09   \n",
       "Zimbabwe                                                             51.21   \n",
       "\n",
       "                                        Proportion Protéine Animale  \n",
       "Zone                                                                 \n",
       "Afghanistan                                                0.195045  \n",
       "Afrique du Sud                                             0.414339  \n",
       "Albanie                                                    0.554914  \n",
       "Algérie                                                    0.276719  \n",
       "Allemagne                                                  0.605374  \n",
       "...                                                             ...  \n",
       "Venezuela (République bolivarienne du)                     0.450782  \n",
       "Viet Nam                                                   0.408864  \n",
       "Yémen                                                      0.200263  \n",
       "Zambie                                                     0.197834  \n",
       "Zimbabwe                                                   0.226909  \n",
       "\n",
       "[172 rows x 4 columns]"
      ]
     },
     "execution_count": 15,
     "metadata": {},
     "output_type": "execute_result"
    }
   ],
   "source": [
    "data"
   ]
  },
  {
   "cell_type": "markdown",
   "metadata": {},
   "source": [
    "### Préparation des données - Centrage et Réduction"
   ]
  },
  {
   "cell_type": "code",
   "execution_count": 16,
   "metadata": {},
   "outputs": [],
   "source": [
    "# préparation des données pour le clustering\n",
    "X = data.values\n",
    "names = data.index\n",
    "\n",
    "# Centrage et Réduction\n",
    "std_scale = preprocessing.StandardScaler().fit(X)\n",
    "X_scaled = std_scale.transform(X)"
   ]
  },
  {
   "cell_type": "markdown",
   "metadata": {},
   "source": [
    "### Optimisation du dendrogramme"
   ]
  },
  {
   "cell_type": "markdown",
   "metadata": {},
   "source": [
    "### Cophenetic correlation"
   ]
  },
  {
   "cell_type": "markdown",
   "metadata": {},
   "source": [
    "Nous calculons les coefficients Cophenitiques pour chaque méthode de la fonction sklearn.linkage"
   ]
  },
  {
   "cell_type": "code",
   "execution_count": 17,
   "metadata": {},
   "outputs": [
    {
     "data": {
      "text/html": [
       "<div>\n",
       "<style scoped>\n",
       "    .dataframe tbody tr th:only-of-type {\n",
       "        vertical-align: middle;\n",
       "    }\n",
       "\n",
       "    .dataframe tbody tr th {\n",
       "        vertical-align: top;\n",
       "    }\n",
       "\n",
       "    .dataframe thead th {\n",
       "        text-align: right;\n",
       "    }\n",
       "</style>\n",
       "<table border=\"1\" class=\"dataframe\">\n",
       "  <thead>\n",
       "    <tr style=\"text-align: right;\">\n",
       "      <th></th>\n",
       "      <th>Single</th>\n",
       "      <th>Complete</th>\n",
       "      <th>Average</th>\n",
       "      <th>Weighted</th>\n",
       "      <th>Centroid</th>\n",
       "      <th>Median</th>\n",
       "      <th>Ward</th>\n",
       "    </tr>\n",
       "  </thead>\n",
       "  <tbody>\n",
       "    <tr>\n",
       "      <th>Coefficient</th>\n",
       "      <td>0.33</td>\n",
       "      <td>0.57</td>\n",
       "      <td>0.69</td>\n",
       "      <td>0.58</td>\n",
       "      <td>0.7</td>\n",
       "      <td>0.55</td>\n",
       "      <td>0.67</td>\n",
       "    </tr>\n",
       "  </tbody>\n",
       "</table>\n",
       "</div>"
      ],
      "text/plain": [
       "             Single  Complete  Average  Weighted  Centroid  Median  Ward\n",
       "Coefficient    0.33      0.57     0.69      0.58       0.7    0.55  0.67"
      ]
     },
     "execution_count": 17,
     "metadata": {},
     "output_type": "execute_result"
    }
   ],
   "source": [
    "OCR.coefCophenetic(X_scaled)"
   ]
  },
  {
   "cell_type": "markdown",
   "metadata": {},
   "source": [
    "Nous constatons que la méthode Centroid à la meilleure corélation entre les distances du DataFrame et les distances du dendrogramme."
   ]
  },
  {
   "cell_type": "markdown",
   "metadata": {},
   "source": [
    "### Courbe de Lorenz et coefficient de Gini"
   ]
  },
  {
   "cell_type": "markdown",
   "metadata": {},
   "source": [
    "Nous calculons les coefficients de Gini pour chaque méthode de la fonction sklearn.linkage"
   ]
  },
  {
   "cell_type": "code",
   "execution_count": 25,
   "metadata": {},
   "outputs": [
    {
     "data": {
      "text/html": [
       "<div>\n",
       "<style scoped>\n",
       "    .dataframe tbody tr th:only-of-type {\n",
       "        vertical-align: middle;\n",
       "    }\n",
       "\n",
       "    .dataframe tbody tr th {\n",
       "        vertical-align: top;\n",
       "    }\n",
       "\n",
       "    .dataframe thead th {\n",
       "        text-align: right;\n",
       "    }\n",
       "</style>\n",
       "<table border=\"1\" class=\"dataframe\">\n",
       "  <thead>\n",
       "    <tr style=\"text-align: right;\">\n",
       "      <th></th>\n",
       "      <th>Single</th>\n",
       "      <th>Complete</th>\n",
       "      <th>Average</th>\n",
       "      <th>Weighted</th>\n",
       "      <th>Centroid</th>\n",
       "      <th>Median</th>\n",
       "      <th>Ward</th>\n",
       "    </tr>\n",
       "  </thead>\n",
       "  <tbody>\n",
       "    <tr>\n",
       "      <th>Gini Coefficient</th>\n",
       "      <td>0.216036</td>\n",
       "      <td>0.420648</td>\n",
       "      <td>0.3456</td>\n",
       "      <td>0.351943</td>\n",
       "      <td>0.320786</td>\n",
       "      <td>0.325397</td>\n",
       "      <td>0.537566</td>\n",
       "    </tr>\n",
       "  </tbody>\n",
       "</table>\n",
       "</div>"
      ],
      "text/plain": [
       "                    Single  Complete  Average  Weighted  Centroid    Median  \\\n",
       "Gini Coefficient  0.216036  0.420648   0.3456  0.351943  0.320786  0.325397   \n",
       "\n",
       "                      Ward  \n",
       "Gini Coefficient  0.537566  "
      ]
     },
     "execution_count": 25,
     "metadata": {},
     "output_type": "execute_result"
    }
   ],
   "source": [
    "OCR.coefGini(X_scaled)"
   ]
  },
  {
   "cell_type": "markdown",
   "metadata": {},
   "source": [
    "Nous constatons que la méthode Centroid à un des coefficients de Gini les plus proche de zéro."
   ]
  },
  {
   "cell_type": "code",
   "execution_count": 35,
   "metadata": {},
   "outputs": [
    {
     "data": {
      "image/png": "[encoded data removed]",
      "text/plain": [
       "<Figure size 1440x1440 with 1 Axes>"
      ]
     },
     "metadata": {},
     "output_type": "display_data"
    }
   ],
   "source": [
    "fig, axes = plt.subplots(1, 1, figsize=(20, 20))\n",
    "\n",
    "fig.suptitle(\"Courbe de Lorenz en fonction des distances à chaque itération\", fontsize= _FONTSIZETITLE_)\n",
    "\n",
    "Z = linkage(X_scaled, 'centroid')\n",
    "lorenz, n, gini = OCR.lorenz(pd.DataFrame(data=Z[:,2]))\n",
    "xaxis = np.linspace(1/n,1+1/n,n+1) #Il y a un segment de taille n pour chaque individu, plus 1 segment supplémentaire d'ordonnée 0. Le premier segment commence à 0-1/n, et le dernier termine à 1+1/n.\n",
    "\n",
    "axes.plot(xaxis,lorenz,drawstyle='steps-post')\n",
    "axes.text(0.9, 0.6, f\"Gini : {gini:0.2f}\", {'color': 'C2', 'fontsize': 18}, va=\"center\", ha=\"center\")\n",
    "axes.set_xlabel('Itération')\n",
    "axes.set_ylabel('Distance cumulé')\n",
    "\n",
    "plt.show()"
   ]
  },
  {
   "cell_type": "markdown",
   "metadata": {},
   "source": [
    "### Coefficient de Silhouette"
   ]
  },
  {
   "cell_type": "markdown",
   "metadata": {},
   "source": [
    "Avec la méthode 'complete', nous avons un coefficient de Gini plus faible qu'avec la méthode 'Ward' (Coefficient de Gini = 0.54)"
   ]
  },
  {
   "cell_type": "code",
   "execution_count": 37,
   "metadata": {},
   "outputs": [
    {
     "data": {
      "text/plain": [
       "array([[2.80000000e+01, 9.70000000e+01, 9.32606135e-02, 2.00000000e+00],\n",
       "       [3.60000000e+01, 8.60000000e+01, 1.59035214e-01, 2.00000000e+00],\n",
       "       [1.50000000e+01, 1.41000000e+02, 2.31977753e-01, 2.00000000e+00],\n",
       "       [1.10000000e+01, 7.60000000e+01, 2.44560119e-01, 2.00000000e+00],\n",
       "       [2.30000000e+01, 1.16000000e+02, 2.48544717e-01, 2.00000000e+00],\n",
       "       [1.13000000e+02, 1.59000000e+02, 2.49063670e-01, 2.00000000e+00],\n",
       "       [7.50000000e+01, 1.44000000e+02, 2.56860818e-01, 2.00000000e+00],\n",
       "       [3.00000000e+00, 4.50000000e+01, 2.61197963e-01, 2.00000000e+00],\n",
       "       [2.20000000e+01, 1.20000000e+02, 2.61448167e-01, 2.00000000e+00],\n",
       "       [6.80000000e+01, 1.71000000e+02, 2.61871886e-01, 2.00000000e+00],\n",
       "       [8.40000000e+01, 1.54000000e+02, 2.83489971e-01, 2.00000000e+00],\n",
       "       [1.01000000e+02, 1.61000000e+02, 2.84199361e-01, 2.00000000e+00],\n",
       "       [3.40000000e+01, 1.60000000e+02, 2.90006672e-01, 2.00000000e+00],\n",
       "       [0.00000000e+00, 1.69000000e+02, 2.93795936e-01, 2.00000000e+00],\n",
       "       [7.90000000e+01, 1.26000000e+02, 3.04039646e-01, 2.00000000e+00],\n",
       "       [4.20000000e+01, 5.60000000e+01, 3.07749316e-01, 2.00000000e+00],\n",
       "       [1.90000000e+01, 6.50000000e+01, 3.08238575e-01, 2.00000000e+00],\n",
       "       [1.60000000e+01, 1.48000000e+02, 3.09718374e-01, 2.00000000e+00],\n",
       "       [3.90000000e+01, 1.88000000e+02, 3.12453515e-01, 3.00000000e+00],\n",
       "       [5.90000000e+01, 1.78000000e+02, 3.23674348e-01, 3.00000000e+00],\n",
       "       [6.90000000e+01, 1.09000000e+02, 3.26592426e-01, 2.00000000e+00],\n",
       "       [5.70000000e+01, 1.06000000e+02, 3.30835778e-01, 2.00000000e+00],\n",
       "       [8.00000000e+00, 1.51000000e+02, 3.39453281e-01, 2.00000000e+00],\n",
       "       [1.40000000e+01, 7.20000000e+01, 3.48575234e-01, 2.00000000e+00],\n",
       "       [4.90000000e+01, 5.00000000e+01, 3.50919891e-01, 2.00000000e+00],\n",
       "       [9.60000000e+01, 1.21000000e+02, 3.63123953e-01, 2.00000000e+00],\n",
       "       [6.00000000e+00, 1.40000000e+02, 3.65861352e-01, 2.00000000e+00],\n",
       "       [5.40000000e+01, 1.30000000e+02, 3.70093400e-01, 2.00000000e+00],\n",
       "       [1.89000000e+02, 1.99000000e+02, 3.64715658e-01, 4.00000000e+00],\n",
       "       [1.20000000e+01, 7.40000000e+01, 3.71239245e-01, 2.00000000e+00],\n",
       "       [2.60000000e+01, 1.11000000e+02, 3.84129381e-01, 2.00000000e+00],\n",
       "       [2.40000000e+01, 1.45000000e+02, 3.92763680e-01, 2.00000000e+00],\n",
       "       [1.70000000e+01, 1.75000000e+02, 3.94002282e-01, 3.00000000e+00],\n",
       "       [1.19000000e+02, 1.62000000e+02, 3.94658009e-01, 2.00000000e+00],\n",
       "       [1.65000000e+02, 1.84000000e+02, 3.96940361e-01, 3.00000000e+00],\n",
       "       [6.60000000e+01, 9.10000000e+01, 4.03656193e-01, 2.00000000e+00],\n",
       "       [1.70000000e+02, 1.85000000e+02, 4.04253646e-01, 3.00000000e+00],\n",
       "       [4.80000000e+01, 1.25000000e+02, 4.09398211e-01, 2.00000000e+00],\n",
       "       [1.35000000e+02, 1.77000000e+02, 4.10721936e-01, 3.00000000e+00],\n",
       "       [4.00000000e+00, 1.37000000e+02, 4.19679025e-01, 2.00000000e+00],\n",
       "       [1.87000000e+02, 1.93000000e+02, 4.26119733e-01, 4.00000000e+00],\n",
       "       [6.40000000e+01, 1.49000000e+02, 4.29419748e-01, 2.00000000e+00],\n",
       "       [1.00000000e+02, 2.12000000e+02, 4.42022980e-01, 5.00000000e+00],\n",
       "       [1.23000000e+02, 1.96000000e+02, 4.52687484e-01, 3.00000000e+00],\n",
       "       [2.70000000e+01, 1.92000000e+02, 4.57823779e-01, 3.00000000e+00],\n",
       "       [2.50000000e+01, 1.72000000e+02, 4.62387115e-01, 3.00000000e+00],\n",
       "       [3.50000000e+01, 1.39000000e+02, 4.69256125e-01, 2.00000000e+00],\n",
       "       [1.74000000e+02, 2.06000000e+02, 4.71993918e-01, 5.00000000e+00],\n",
       "       [4.40000000e+01, 2.19000000e+02, 4.42776697e-01, 6.00000000e+00],\n",
       "       [1.07000000e+02, 2.10000000e+02, 4.75952620e-01, 4.00000000e+00],\n",
       "       [1.38000000e+02, 2.21000000e+02, 4.56457706e-01, 5.00000000e+00],\n",
       "       [1.58000000e+02, 1.82000000e+02, 4.80809950e-01, 3.00000000e+00],\n",
       "       [7.00000000e+01, 1.56000000e+02, 4.89580392e-01, 2.00000000e+00],\n",
       "       [5.50000000e+01, 9.40000000e+01, 4.91248674e-01, 2.00000000e+00],\n",
       "       [2.02000000e+02, 2.16000000e+02, 4.92230684e-01, 5.00000000e+00],\n",
       "       [9.00000000e+00, 1.02000000e+02, 4.96187183e-01, 2.00000000e+00],\n",
       "       [2.00000000e+01, 1.80000000e+02, 4.97637811e-01, 3.00000000e+00],\n",
       "       [1.22000000e+02, 1.33000000e+02, 5.08110341e-01, 2.00000000e+00],\n",
       "       [1.43000000e+02, 1.46000000e+02, 5.16859541e-01, 2.00000000e+00],\n",
       "       [1.15000000e+02, 2.18000000e+02, 5.21517061e-01, 3.00000000e+00],\n",
       "       [1.90000000e+02, 1.91000000e+02, 5.22111234e-01, 6.00000000e+00],\n",
       "       [1.00000000e+00, 1.68000000e+02, 5.23306384e-01, 2.00000000e+00],\n",
       "       [2.05000000e+02, 2.33000000e+02, 4.97711831e-01, 4.00000000e+00],\n",
       "       [3.00000000e+01, 3.80000000e+01, 5.25665964e-01, 2.00000000e+00],\n",
       "       [1.97000000e+02, 2.35000000e+02, 5.16774433e-01, 4.00000000e+00],\n",
       "       [8.20000000e+01, 9.00000000e+01, 5.26056204e-01, 2.00000000e+00],\n",
       "       [1.14000000e+02, 2.11000000e+02, 5.27777612e-01, 3.00000000e+00],\n",
       "       [1.00000000e+01, 1.94000000e+02, 5.27920324e-01, 3.00000000e+00],\n",
       "       [6.20000000e+01, 1.36000000e+02, 5.37994737e-01, 2.00000000e+00],\n",
       "       [8.30000000e+01, 1.76000000e+02, 5.40853947e-01, 3.00000000e+00],\n",
       "       [1.86000000e+02, 2.40000000e+02, 5.48019737e-01, 4.00000000e+00],\n",
       "       [8.50000000e+01, 1.24000000e+02, 5.49612627e-01, 2.00000000e+00],\n",
       "       [1.52000000e+02, 2.41000000e+02, 5.49911449e-01, 4.00000000e+00],\n",
       "       [1.80000000e+01, 2.09000000e+02, 5.52550419e-01, 3.00000000e+00],\n",
       "       [6.00000000e+01, 2.25000000e+02, 5.56656713e-01, 3.00000000e+00],\n",
       "       [6.70000000e+01, 1.08000000e+02, 5.61734771e-01, 2.00000000e+00],\n",
       "       [1.73000000e+02, 2.36000000e+02, 5.66034979e-01, 6.00000000e+00],\n",
       "       [2.14000000e+02, 2.38000000e+02, 5.69033950e-01, 8.00000000e+00],\n",
       "       [7.10000000e+01, 2.30000000e+02, 5.71990906e-01, 3.00000000e+00],\n",
       "       [8.10000000e+01, 2.03000000e+02, 5.73255125e-01, 3.00000000e+00],\n",
       "       [2.26000000e+02, 2.45000000e+02, 5.76674997e-01, 8.00000000e+00],\n",
       "       [5.10000000e+01, 1.50000000e+02, 5.78606130e-01, 2.00000000e+00],\n",
       "       [1.42000000e+02, 2.20000000e+02, 5.97294693e-01, 7.00000000e+00],\n",
       "       [4.30000000e+01, 1.95000000e+02, 5.97518142e-01, 3.00000000e+00],\n",
       "       [1.32000000e+02, 2.01000000e+02, 6.00947974e-01, 3.00000000e+00],\n",
       "       [2.34000000e+02, 2.43000000e+02, 6.03698261e-01, 6.00000000e+00],\n",
       "       [3.30000000e+01, 2.27000000e+02, 6.08527152e-01, 3.00000000e+00],\n",
       "       [6.30000000e+01, 1.98000000e+02, 6.10153934e-01, 3.00000000e+00],\n",
       "       [5.30000000e+01, 2.22000000e+02, 6.14276635e-01, 6.00000000e+00],\n",
       "       [2.15000000e+02, 2.49000000e+02, 6.14910760e-01, 1.10000000e+01],\n",
       "       [2.08000000e+02, 2.23000000e+02, 6.18714180e-01, 6.00000000e+00],\n",
       "       [5.20000000e+01, 2.04000000e+02, 6.19136014e-01, 4.00000000e+00],\n",
       "       [2.17000000e+02, 2.32000000e+02, 6.22848670e-01, 9.00000000e+00],\n",
       "       [2.28000000e+02, 2.52000000e+02, 6.44240813e-01, 1.10000000e+01],\n",
       "       [1.03000000e+02, 2.37000000e+02, 6.46396716e-01, 3.00000000e+00],\n",
       "       [1.63000000e+02, 1.83000000e+02, 6.48478164e-01, 3.00000000e+00],\n",
       "       [8.00000000e+01, 2.29000000e+02, 6.49131061e-01, 3.00000000e+00],\n",
       "       [2.00000000e+00, 1.28000000e+02, 6.50666229e-01, 2.00000000e+00],\n",
       "       [3.10000000e+01, 7.70000000e+01, 6.52359704e-01, 2.00000000e+00],\n",
       "       [9.50000000e+01, 2.07000000e+02, 6.57660506e-01, 3.00000000e+00],\n",
       "       [1.53000000e+02, 1.57000000e+02, 6.62198459e-01, 2.00000000e+00],\n",
       "       [2.00000000e+02, 2.24000000e+02, 6.64586140e-01, 6.00000000e+00],\n",
       "       [2.31000000e+02, 2.59000000e+02, 6.85833531e-01, 6.00000000e+00],\n",
       "       [2.13000000e+02, 2.65000000e+02, 6.86583999e-01, 1.30000000e+01],\n",
       "       [2.61000000e+02, 2.69000000e+02, 6.95613369e-01, 1.30000000e+01],\n",
       "       [4.00000000e+01, 8.90000000e+01, 7.04148002e-01, 2.00000000e+00],\n",
       "       [2.90000000e+01, 1.04000000e+02, 7.05344652e-01, 2.00000000e+00],\n",
       "       [5.00000000e+00, 1.18000000e+02, 7.06046518e-01, 2.00000000e+00],\n",
       "       [4.70000000e+01, 2.78000000e+02, 7.07150875e-01, 3.00000000e+00],\n",
       "       [2.68000000e+02, 2.72000000e+02, 7.20106961e-01, 5.00000000e+00],\n",
       "       [2.62000000e+02, 2.71000000e+02, 7.20321991e-01, 9.00000000e+00],\n",
       "       [2.39000000e+02, 2.44000000e+02, 7.36470878e-01, 7.00000000e+00],\n",
       "       [1.64000000e+02, 2.46000000e+02, 7.41544093e-01, 4.00000000e+00],\n",
       "       [1.66000000e+02, 2.66000000e+02, 7.41831040e-01, 4.00000000e+00],\n",
       "       [2.47000000e+02, 2.54000000e+02, 7.64275405e-01, 9.00000000e+00],\n",
       "       [2.42000000e+02, 2.76000000e+02, 7.67398601e-01, 1.70000000e+01],\n",
       "       [2.53000000e+02, 2.55000000e+02, 7.68272151e-01, 5.00000000e+00],\n",
       "       [8.80000000e+01, 2.88000000e+02, 7.35295970e-01, 6.00000000e+00],\n",
       "       [1.31000000e+02, 1.67000000e+02, 7.69467666e-01, 2.00000000e+00],\n",
       "       [1.79000000e+02, 2.67000000e+02, 7.88853302e-01, 5.00000000e+00],\n",
       "       [2.51000000e+02, 2.86000000e+02, 7.98970338e-01, 1.20000000e+01],\n",
       "       [2.84000000e+02, 2.92000000e+02, 8.25113578e-01, 1.60000000e+01],\n",
       "       [2.73000000e+02, 2.87000000e+02, 8.41075367e-01, 2.30000000e+01],\n",
       "       [4.10000000e+01, 2.58000000e+02, 8.42181760e-01, 4.00000000e+00],\n",
       "       [2.60000000e+02, 2.64000000e+02, 8.46638507e-01, 1.50000000e+01],\n",
       "       [2.50000000e+02, 2.82000000e+02, 8.75710680e-01, 1.20000000e+01],\n",
       "       [3.20000000e+01, 9.30000000e+01, 8.79769563e-01, 2.00000000e+00],\n",
       "       [2.79000000e+02, 2.97000000e+02, 8.82401303e-01, 1.40000000e+01],\n",
       "       [2.56000000e+02, 2.57000000e+02, 8.82494765e-01, 9.00000000e+00],\n",
       "       [2.80000000e+02, 2.95000000e+02, 8.92770043e-01, 7.00000000e+00],\n",
       "       [4.60000000e+01, 7.30000000e+01, 8.95286092e-01, 2.00000000e+00],\n",
       "       [2.81000000e+02, 3.02000000e+02, 8.40337627e-01, 7.00000000e+00],\n",
       "       [2.83000000e+02, 2.98000000e+02, 8.99351039e-01, 9.00000000e+00],\n",
       "       [1.34000000e+02, 1.81000000e+02, 9.06614812e-01, 3.00000000e+00],\n",
       "       [7.00000000e+00, 3.00000000e+02, 9.27916443e-01, 1.00000000e+01],\n",
       "       [2.63000000e+02, 2.94000000e+02, 9.47765838e-01, 2.70000000e+01],\n",
       "       [9.90000000e+01, 2.85000000e+02, 9.66767739e-01, 5.00000000e+00],\n",
       "       [1.27000000e+02, 3.04000000e+02, 9.74171655e-01, 1.00000000e+01],\n",
       "       [1.10000000e+02, 2.89000000e+02, 1.00035335e+00, 7.00000000e+00],\n",
       "       [2.96000000e+02, 2.99000000e+02, 1.02659251e+00, 2.90000000e+01],\n",
       "       [2.75000000e+02, 3.03000000e+02, 1.03312343e+00, 2.00000000e+01],\n",
       "       [5.80000000e+01, 3.08000000e+02, 1.05927839e+00, 6.00000000e+00],\n",
       "       [2.48000000e+02, 3.06000000e+02, 1.07847876e+00, 1.60000000e+01],\n",
       "       [3.07000000e+02, 3.09000000e+02, 1.08636558e+00, 3.70000000e+01],\n",
       "       [3.01000000e+02, 3.15000000e+02, 1.08987145e+00, 4.40000000e+01],\n",
       "       [3.10000000e+02, 3.12000000e+02, 1.13304764e+00, 2.70000000e+01],\n",
       "       [1.05000000e+02, 2.74000000e+02, 1.14901937e+00, 7.00000000e+00],\n",
       "       [1.55000000e+02, 3.11000000e+02, 1.14975046e+00, 3.00000000e+01],\n",
       "       [6.10000000e+01, 3.13000000e+02, 1.22901958e+00, 7.00000000e+00],\n",
       "       [2.93000000e+02, 3.14000000e+02, 1.27171808e+00, 3.20000000e+01],\n",
       "       [1.47000000e+02, 3.18000000e+02, 1.27802422e+00, 8.00000000e+00],\n",
       "       [3.21000000e+02, 3.22000000e+02, 1.33715852e+00, 4.00000000e+01],\n",
       "       [3.17000000e+02, 3.20000000e+02, 1.40142200e+00, 3.40000000e+01],\n",
       "       [7.80000000e+01, 3.16000000e+02, 1.43175079e+00, 4.50000000e+01],\n",
       "       [2.10000000e+01, 2.77000000e+02, 1.44734605e+00, 3.00000000e+00],\n",
       "       [3.70000000e+01, 3.24000000e+02, 1.45956163e+00, 3.50000000e+01],\n",
       "       [3.19000000e+02, 3.27000000e+02, 1.46742890e+00, 6.50000000e+01],\n",
       "       [3.05000000e+02, 3.28000000e+02, 1.42474141e+00, 6.80000000e+01],\n",
       "       [3.23000000e+02, 3.25000000e+02, 1.57573685e+00, 8.50000000e+01],\n",
       "       [3.26000000e+02, 3.30000000e+02, 1.53801954e+00, 8.80000000e+01],\n",
       "       [9.80000000e+01, 1.17000000e+02, 1.69531825e+00, 2.00000000e+00],\n",
       "       [8.70000000e+01, 2.91000000e+02, 1.73051012e+00, 6.00000000e+00],\n",
       "       [1.30000000e+01, 1.29000000e+02, 1.82897695e+00, 2.00000000e+00],\n",
       "       [2.90000000e+02, 3.34000000e+02, 1.69288609e+00, 4.00000000e+00],\n",
       "       [3.31000000e+02, 3.33000000e+02, 1.86551273e+00, 9.40000000e+01],\n",
       "       [1.12000000e+02, 3.29000000e+02, 1.96123706e+00, 6.90000000e+01],\n",
       "       [9.20000000e+01, 2.70000000e+02, 2.20498657e+00, 3.00000000e+00],\n",
       "       [3.35000000e+02, 3.37000000e+02, 2.34555420e+00, 7.30000000e+01],\n",
       "       [3.36000000e+02, 3.38000000e+02, 2.46979500e+00, 9.70000000e+01],\n",
       "       [3.32000000e+02, 3.39000000e+02, 2.91085060e+00, 7.50000000e+01],\n",
       "       [3.40000000e+02, 3.41000000e+02, 2.90002247e+00, 1.72000000e+02]])"
      ]
     },
     "execution_count": 37,
     "metadata": {},
     "output_type": "execute_result"
    }
   ],
   "source": [
    "clusterer = KMeans(n_clusters=n_clusters)\n",
    "preds = clusterer.fit_predict(df)\n",
    "centers = clusterer.cluster_centers_"
   ]
  },
  {
   "cell_type": "markdown",
   "metadata": {},
   "source": [
    "### Dendrogramme"
   ]
  },
  {
   "cell_type": "code",
   "execution_count": null,
   "metadata": {
    "scrolled": false
   },
   "outputs": [],
   "source": [
    "# Affichage du dendrogramme tronqué\n",
    "plt.figure(figsize=(10,25))\n",
    "plt.title('Hierarchical Clustering Dendrogram')\n",
    "plt.xlabel('sample index')\n",
    "plt.ylabel('distance')\n",
    "plt.axvline(x=4.1, c='k')\n",
    "dendrogram(\n",
    "    Z,\n",
    "    labels = names,\n",
    "    orientation = \"left\",\n",
    "    color_threshold = 4.1,\n",
    "    truncate_mode='lastp',  # show only the last p merged clusters\n",
    "    p=10\n",
    ")\n",
    "plt.show()"
   ]
  },
  {
   "cell_type": "code",
   "execution_count": null,
   "metadata": {},
   "outputs": [],
   "source": [
    "# Affichage du dendrogramme complet\n",
    "plt.figure(figsize=(20,35))\n",
    "plt.title('Hierarchical Clustering Dendrogram')\n",
    "plt.xlabel('sample index')\n",
    "plt.ylabel('distance')\n",
    "plt.axvline(x=4.1, c='k')\n",
    "dendrogram(\n",
    "    Z,\n",
    "    labels = names,\n",
    "    orientation = \"left\",\n",
    "    color_threshold = 4.1,\n",
    "    leaf_font_size = 8\n",
    ")\n",
    "plt.show()"
   ]
  },
  {
   "cell_type": "code",
   "execution_count": null,
   "metadata": {},
   "outputs": [],
   "source": [
    "df = pd.DataFrame(data=X)\n",
    "df.columns = [\"Difference de population\",\"Disponibilité alimentaire Kcal\",\"Disponibilité alimentaire Protéine\",\"Proportion Protéine Animale\"]\n",
    "df['Clusters'] = fcluster(Z, 5, criterion='maxclust')\n",
    "sns.pairplot(df, hue='Clusters', height=4)"
   ]
  },
  {
   "cell_type": "markdown",
   "metadata": {},
   "source": [
    "Nous voyons que : \n",
    " * le cluster 1 - en bleu - est en croissance démographique modéré, avec une disponibilité alimentaire convenable.\n",
    " * le cluster 2 - en orange - a une croissance démographique faible et une proportion de protéine alimentaire forte\n",
    " * le cluster 3 - en vert - est en croissance démographique forte et une proportion de protéine alimentaire faible \n",
    " * le cluster 4 - en rouge - a une croissance démographique modérée et une proportion de protéine alimentaire faible\n",
    " * le cluster 5 - en violet - est en croissance démographique faible avec une proportion de protéine alimentaire élevée "
   ]
  },
  {
   "cell_type": "code",
   "execution_count": null,
   "metadata": {
    "scrolled": false
   },
   "outputs": [],
   "source": [
    "fig = plt.figure(figsize=(20,10))\n",
    "        \n",
    "color1=[0, 0, 1, 1]\n",
    "color2=[1, 0.65, 0, 1]\n",
    "color3=[0, 1, 0, 1]\n",
    "color4=[1, 0, 0, 1]\n",
    "color5=[0.29, 0, 0.51, 1]\n",
    "\n",
    "colormap = np.array([color1, color2, color3, color4, color5])\n",
    "\n",
    "# affichage des points\n",
    "for i in range(1,6):\n",
    "    plt.scatter(df[df['Clusters'] == i].iloc[:, 0], df[df['Clusters'] == i].iloc[:, 1], c = colormap[i-1])\n",
    "    meanD1 = df[df['Clusters'] == i].iloc[:, 0].mean()\n",
    "    meanD2 = df[df['Clusters'] == i].iloc[:, 1].mean()\n",
    "    plt.scatter(meanD1, meanD2, marker = '^', s = 200, c = colormap[i-1])\n",
    "    \n",
    "plt.show()"
   ]
  },
  {
   "cell_type": "markdown",
   "metadata": {},
   "source": [
    "### Calcul de correlation"
   ]
  },
  {
   "cell_type": "code",
   "execution_count": null,
   "metadata": {},
   "outputs": [],
   "source": [
    "for i in range(len(df.columns)-1):\n",
    "    for j in range(i+1, len(df.columns)-1):\n",
    "        statp, pp = pearsonr(df.iloc[:,i], df.iloc[:,j])\n",
    "        stats, ps = spearmanr(df.iloc[:,i], df.iloc[:,j])\n",
    "        print('corrélation entre', df.columns[i], 'et', df.columns[j])\n",
    "        print('Pearson : stat=%.3f, p=%.3f' % (statp, pp))\n",
    "        print('Spearman : stat=%.3f, p=%.3f' % (stats, ps))\n",
    "        if pp > 0.05:\n",
    "            print('Probably independent following Pearson Test')\n",
    "        else:\n",
    "            print('Probably dependent following Pearson Test')\n",
    "            \n",
    "        if ps > 0.05:\n",
    "            print('Probably independent following Spearman Test\\n')\n",
    "        else:\n",
    "            print('Probably dependent following Spearman Test\\n')"
   ]
  },
  {
   "cell_type": "markdown",
   "metadata": {},
   "source": [
    "## Partie III - Réalisation du ACP"
   ]
  },
  {
   "cell_type": "code",
   "execution_count": null,
   "metadata": {},
   "outputs": [],
   "source": [
    "fig, axes = plt.subplots(figsize = (20, 10))\n",
    "\n",
    "# choix du nombre de composantes à calculer\n",
    "n_comp = 4\n",
    "\n",
    "# selection des colonnes à prendre en compte dans l'ACP\n",
    "data_pca = df[[\"Difference de population\",\"Disponibilité alimentaire Kcal\",\"Disponibilité alimentaire Protéine\",\"Proportion Protéine Animale\"]]\n",
    "\n",
    "# préparation des données pour l'ACP\n",
    "X = data_pca.values\n",
    "names = df.index #pour avoir les intitulés\n",
    "features = df.columns\n",
    "\n",
    "# Centrage et Réduction\n",
    "std_scale = preprocessing.StandardScaler().fit(X)\n",
    "X_scaled = std_scale.transform(X)\n",
    "\n",
    "# Calcul des composantes principales\n",
    "pca = decomposition.PCA(n_components=n_comp)\n",
    "pca.fit(X_scaled)\n",
    "\n",
    "# Eboulis des valeurs propres\n",
    "OCR.display_scree_plot(pca)\n",
    "\n",
    "plt.show()"
   ]
  },
  {
   "cell_type": "code",
   "execution_count": null,
   "metadata": {
    "scrolled": false
   },
   "outputs": [],
   "source": [
    "# Cercle des corrélations\n",
    "pcs = pca.components_\n",
    "OCR.display_circles(pcs, n_comp, pca, [(0,1),(2,3)], labels = np.array(features))\n",
    "\n",
    "# Projection des individus\n",
    "X_projected = pca.transform(X_scaled)\n",
    "OCR.display_factorial_planes(X_projected, n_comp, pca, [(0,1),(2,3)], df['Clusters'])#, labels = np.array(names))"
   ]
  },
  {
   "cell_type": "code",
   "execution_count": null,
   "metadata": {},
   "outputs": [],
   "source": [
    "pcs"
   ]
  },
  {
   "cell_type": "code",
   "execution_count": null,
   "metadata": {
    "scrolled": false
   },
   "outputs": [],
   "source": [
    "color1=(0, 0, 1, 1)\n",
    "color2=(1, 0.65, 0, 1)\n",
    "color3=(0, 1, 0, 1)\n",
    "color4=(1, 0, 0, 1)\n",
    "color5=(0.29, 0, 0.51, 1)\n",
    "\n",
    "colormap = np.array([color1, color2, color3, color4, color5]).reshape(1,-1)\n",
    "colormap"
   ]
  },
  {
   "cell_type": "markdown",
   "metadata": {},
   "source": [
    "## Partie IV - Choix des Clusters"
   ]
  },
  {
   "cell_type": "markdown",
   "metadata": {},
   "source": [
    "Nous allons choisir les clusters 1 - bleu - et 5 - mauve"
   ]
  },
  {
   "cell_type": "code",
   "execution_count": null,
   "metadata": {
    "scrolled": false
   },
   "outputs": [],
   "source": [
    "for i in (1,5):\n",
    "    for j in range(0, len(df.columns)-1):\n",
    "        stat, p = shapiro(df[df['Clusters'] == i].iloc[:, j])\n",
    "        print('Test de normalité pour le cluster', i, 'et la colonne', df.columns[j])\n",
    "        print('stat=%.3f, p=%.3f' % (stat, p))\n",
    "        plt.hist(df[df['Clusters'] == i].iloc[:, j])\n",
    "        qqplot(df[df['Clusters'] == i].iloc[:, j], line='s')\n",
    "        plt.show()\n",
    "        if p > 0.05:\n",
    "            print('Probably Gaussian\\n')\n",
    "        else:\n",
    "            print('Probably not Gaussian\\n')"
   ]
  },
  {
   "cell_type": "code",
   "execution_count": null,
   "metadata": {},
   "outputs": [],
   "source": []
  },
  {
   "cell_type": "code",
   "execution_count": null,
   "metadata": {},
   "outputs": [],
   "source": [
    "df[df['Clusters'] == 1].iloc[:, 0]"
   ]
  },
  {
   "cell_type": "markdown",
   "metadata": {},
   "source": [
    "## Partie IV - Application de l'ACP sur le Dendrogramme"
   ]
  },
  {
   "cell_type": "markdown",
   "metadata": {},
   "source": [
    "### Préparation des données - Centrage et Réduction"
   ]
  },
  {
   "cell_type": "code",
   "execution_count": null,
   "metadata": {},
   "outputs": [],
   "source": [
    "# préparation des données pour le clustering\n",
    "X = pd.DataFrame(data = X_projected).values\n",
    "names = data.index\n",
    "\n",
    "# Centrage et Réduction\n",
    "std_scale = preprocessing.StandardScaler().fit(X)\n",
    "X_scaled = std_scale.transform(X)\n",
    "\n",
    "# generate the linkage matrix\n",
    "Z = linkage(X_scaled, 'ward')"
   ]
  },
  {
   "cell_type": "markdown",
   "metadata": {},
   "source": [
    "### Cophenetic correlation"
   ]
  },
  {
   "cell_type": "code",
   "execution_count": null,
   "metadata": {},
   "outputs": [],
   "source": [
    "c, coph_dists = cophenet(Z, pdist(X_projected))\n",
    "f\"Cophenetic correlation : {c:0.2f}\""
   ]
  },
  {
   "cell_type": "markdown",
   "metadata": {},
   "source": [
    "### Courbe de Lorenz"
   ]
  },
  {
   "cell_type": "code",
   "execution_count": null,
   "metadata": {},
   "outputs": [],
   "source": [
    "fig, axes = plt.subplots(1, 1, figsize=(20, 20))\n",
    "\n",
    "fig.suptitle(\"Courbe de Lorenz en fonction des distances à chaque itération\", fontsize= _FONTSIZETITLE_)\n",
    "\n",
    "lorenz, n, gini = OCR.lorenz(pd.DataFrame(data=Z[:,2]))\n",
    "xaxis = np.linspace(1/n,1+1/n,n+1) #Il y a un segment de taille n pour chaque individu, plus 1 segment supplémentaire d'ordonnée 0. Le premier segment commence à 0-1/n, et le dernier termine à 1+1/n.\n",
    "\n",
    "axes.plot(xaxis,lorenz,drawstyle='steps-post')\n",
    "axes.text(0.9, 0.4, f\"Gini : {gini:0.2f}\", {'color': 'C2', 'fontsize': 18}, va=\"center\", ha=\"center\")\n",
    "axes.set_xlabel('Itération')\n",
    "axes.set_ylabel('Distance cumulé')\n",
    "\n",
    "plt.show()"
   ]
  },
  {
   "cell_type": "markdown",
   "metadata": {},
   "source": [
    "### Dendrogramme"
   ]
  },
  {
   "cell_type": "code",
   "execution_count": null,
   "metadata": {},
   "outputs": [],
   "source": [
    "# Affichage du dendrogramme tronqué\n",
    "plt.figure(figsize=(10,25))\n",
    "plt.title('Hierarchical Clustering Dendrogram')\n",
    "plt.xlabel('sample index')\n",
    "plt.ylabel('distance')\n",
    "plt.axvline(x=9.5, c='k')\n",
    "dendrogram(\n",
    "    Z,\n",
    "    labels = names,\n",
    "    orientation = \"left\",\n",
    "    color_threshold = 9.5,\n",
    "    truncate_mode='lastp',  # show only the last p merged clusters\n",
    "    p=10\n",
    ")\n",
    "plt.show()"
   ]
  },
  {
   "cell_type": "code",
   "execution_count": null,
   "metadata": {},
   "outputs": [],
   "source": [
    "# Affichage du dendrogramme complet\n",
    "plt.figure(figsize=(20,35))\n",
    "plt.title('Hierarchical Clustering Dendrogram')\n",
    "plt.xlabel('sample index')\n",
    "plt.ylabel('distance')\n",
    "plt.axvline(x=4.1, c='k')\n",
    "dendrogram(\n",
    "    Z,\n",
    "    labels = names,\n",
    "    orientation = \"left\",\n",
    "    color_threshold = 4.1,\n",
    "    leaf_font_size = 8\n",
    ")\n",
    "plt.show()"
   ]
  },
  {
   "cell_type": "code",
   "execution_count": null,
   "metadata": {},
   "outputs": [],
   "source": [
    "df = pd.DataFrame(data=X_projected)\n",
    "df.columns = [\"Difference de population\",\"Disponibilité alimentaire Kcal\",\"Disponibilité alimentaire Protéine\",\"Proportion Protéine Animale\"]\n",
    "df['Clusters'] = fcluster(Z, 5, criterion='maxclust')\n",
    "sns.pairplot(df, hue='Clusters', height=4)"
   ]
  },
  {
   "cell_type": "markdown",
   "metadata": {},
   "source": [
    "#### Calcul des vecteurs et des valeurs propre"
   ]
  },
  {
   "cell_type": "code",
   "execution_count": null,
   "metadata": {},
   "outputs": [],
   "source": [
    "fig, axes = plt.subplots(figsize = (20, 10))\n",
    "\n",
    "# choix du nombre de composantes à calculer\n",
    "n_comp = 2\n",
    "\n",
    "# selection des colonnes à prendre en compte dans l'ACP\n",
    "data_pca = df[[\"Difference de population\",\"Disponibilité alimentaire Kcal\"]]\n",
    "\n",
    "# préparation des données pour l'ACP\n",
    "X = data_pca.values\n",
    "names = df.index #pour avoir les intitulés\n",
    "features = df.columns\n",
    "\n",
    "# Centrage et Réduction\n",
    "std_scale = preprocessing.StandardScaler().fit(X)\n",
    "X_scaled = std_scale.transform(X)\n",
    "\n",
    "# Calcul des composantes principales\n",
    "pca = decomposition.PCA(n_components=n_comp)\n",
    "pca.fit(X_scaled)\n",
    "\n",
    "# Eboulis des valeurs propres\n",
    "OCR.display_scree_plot(pca)\n",
    "\n",
    "plt.show()"
   ]
  },
  {
   "cell_type": "code",
   "execution_count": null,
   "metadata": {},
   "outputs": [],
   "source": [
    "print((\"Explained Variance: %s\") % (pca.fit(X).explained_variance_ratio_))"
   ]
  },
  {
   "cell_type": "code",
   "execution_count": null,
   "metadata": {
    "scrolled": false
   },
   "outputs": [],
   "source": [
    "# Cercle des corrélations\n",
    "pcs = pca.components_\n",
    "OCR.display_circles(pcs, n_comp, pca, [(0,1),(2,3)], labels = np.array(features))\n",
    "\n",
    "# Projection des individus\n",
    "X_projected = pca.transform(X_scaled)\n",
    "OCR.display_factorial_planes(X_projected, n_comp, pca, [(0,1),(2,3)], df['Clusters'])#, labels = np.array(names))"
   ]
  },
  {
   "cell_type": "code",
   "execution_count": null,
   "metadata": {},
   "outputs": [],
   "source": [
    "covariance_matrix = np.cov(df.T)\n",
    "print(\"Covariance matrix:\\n\", covariance_matrix)"
   ]
  },
  {
   "cell_type": "code",
   "execution_count": null,
   "metadata": {},
   "outputs": [],
   "source": [
    "eigen_values, eigen_vectors = np.linalg.eig(covariance_matrix)\n",
    "print(\"Eigenvectors:\\n\", eigen_vectors, \"\\n\")\n",
    "print(\"Eigenvalues:\\n\", eigen_values)"
   ]
  },
  {
   "cell_type": "code",
   "execution_count": null,
   "metadata": {},
   "outputs": [],
   "source": [
    "eigen_vec_svd, _, _= np.linalg.svd(df.T)\n",
    "eigen_vec_svd"
   ]
  },
  {
   "cell_type": "code",
   "execution_count": null,
   "metadata": {},
   "outputs": [],
   "source": [
    "for val in eigen_values:\n",
    "    print(val)"
   ]
  },
  {
   "cell_type": "code",
   "execution_count": null,
   "metadata": {},
   "outputs": [],
   "source": [
    "variance_explained = [(i / sum(eigen_values)) * 100 for i in eigen_values]\n",
    "variance_explained"
   ]
  },
  {
   "cell_type": "code",
   "execution_count": null,
   "metadata": {},
   "outputs": [],
   "source": [
    "cumulative_variance_explained = np.cumsum(variance_explained)\n",
    "cumulative_variance_explained"
   ]
  },
  {
   "cell_type": "code",
   "execution_count": null,
   "metadata": {},
   "outputs": [],
   "source": [
    "fig, axes = plt.subplots(1, 1, figsize = (20, 10))\n",
    "sns.lineplot(x = [1,2,3], y = cumulative_variance_explained);\n",
    "plt.xlabel(\"Number of components\")\n",
    "plt.ylabel(\"Cumulative explained variance\")\n",
    "plt.title(\"Explained variance vs Number of components\")\n",
    "plt.show()"
   ]
  },
  {
   "cell_type": "code",
   "execution_count": null,
   "metadata": {},
   "outputs": [],
   "source": [
    "projection_matrix = (eigen_vectors.T[:][:])[:2, :2].T\n",
    "print(\"Projection matrix: \\n\", projection_matrix)"
   ]
  },
  {
   "cell_type": "code",
   "execution_count": null,
   "metadata": {},
   "outputs": [],
   "source": [
    "X_pca = X.dot(projection_matrix)"
   ]
  },
  {
   "cell_type": "code",
   "execution_count": null,
   "metadata": {},
   "outputs": [],
   "source": [
    "for clu in clusters:\n",
    "    sns.scatterplot(X_pca[df['Clusters']==clusters, 0],\n",
    "                   X_pca[df['Clusters']==clusters, 1])"
   ]
  },
  {
   "cell_type": "code",
   "execution_count": null,
   "metadata": {},
   "outputs": [],
   "source": [
    "corrmat = np.abs(df[df['Clusters'] == 5].iloc[:,:2].corr())\n",
    "f, ax = plt.subplots(figsize=(20, 10))\n",
    "sns.heatmap(corrmat, vmin = 0, vmax=1, square=True, annot = True)"
   ]
  },
  {
   "cell_type": "code",
   "execution_count": null,
   "metadata": {},
   "outputs": [],
   "source": [
    "df.iloc[:,2]"
   ]
  },
  {
   "cell_type": "code",
   "execution_count": null,
   "metadata": {},
   "outputs": [],
   "source": [
    "# préparation des données pour le clustering\n",
    "X = data.values\n",
    "names = data.index\n",
    "\n",
    "# Centrage et Réduction\n",
    "std_scale = preprocessing.StandardScaler().fit(X)\n",
    "X_scaled = std_scale.transform(X)\n",
    "\n",
    "# Clustering hiérarchique\n",
    "Z = linkage(X_scaled, 'ward')\n",
    "\n",
    "# Affichage du dendrogramme\n",
    "OCR.plot_dendrogram(Z, names)"
   ]
  },
  {
   "cell_type": "code",
   "execution_count": null,
   "metadata": {
    "scrolled": false
   },
   "outputs": [],
   "source": [
    "df = pd.DataFrame(data=X_scaled)\n",
    "df.index = names\n",
    "df.columns = [\"Difference de population\",\"Disponibilité alimentaire Kcal\",\"Disponibilité alimentaire Protéine\",\"Proportion Protéine Animale\"]\n",
    "\n",
    "g = sns.clustermap(df, z_score=0, cmap=\"vlag\", figsize=(20, 50))"
   ]
  },
  {
   "cell_type": "code",
   "execution_count": null,
   "metadata": {},
   "outputs": [],
   "source": [
    "df"
   ]
  },
  {
   "cell_type": "code",
   "execution_count": null,
   "metadata": {},
   "outputs": [],
   "source": [
    "# préparation des données pour le clustering\n",
    "X = data.values\n",
    "names = data.index\n",
    "\n",
    "# Centrage et Réduction\n",
    "std_scale = preprocessing.StandardScaler().fit(X)\n",
    "X_scaled = std_scale.transform(X)\n",
    "\n",
    "# Clustering hiérarchique\n",
    "Z = linkage(X_scaled, 'ward')\n",
    "\n",
    "# Affichage du dendrogramme\n",
    "OCR.plot_dendrogram(Z, names)"
   ]
  },
  {
   "cell_type": "code",
   "execution_count": null,
   "metadata": {
    "scrolled": false
   },
   "outputs": [],
   "source": [
    "df = pd.DataFrame(data=X_scaled)\n",
    "df.index = names\n",
    "df.columns = [\"Difference de population\",\"Disponibilité alimentaire Kcal\",\"Disponibilité alimentaire Protéine\",\"Proportion Protéine Animale\"]\n",
    "\n",
    "df['clusters'] = fcluster(Z, 2, criterion='maxclust')\n",
    "clusters = df.pop('clusters')\n",
    "\n",
    "lut = dict(zip(clusters.unique(), \"rbgym\"))\n",
    "row_colors = clusters.map(lut)\n",
    "\n",
    "g = sns.clustermap(df, z_score=0, cmap=\"vlag\", figsize=(20, 40), row_colors=row_colors)"
   ]
  },
  {
   "cell_type": "code",
   "execution_count": null,
   "metadata": {},
   "outputs": [],
   "source": [
    "lut"
   ]
  },
  {
   "cell_type": "markdown",
   "metadata": {},
   "source": [
    "### Découpage en 2 clusters"
   ]
  },
  {
   "cell_type": "code",
   "execution_count": null,
   "metadata": {},
   "outputs": [],
   "source": [
    "Z"
   ]
  },
  {
   "cell_type": "code",
   "execution_count": null,
   "metadata": {},
   "outputs": [],
   "source": [
    "clusters = fcluster(Z, 2, criterion='maxclust')"
   ]
  },
  {
   "cell_type": "code",
   "execution_count": null,
   "metadata": {},
   "outputs": [],
   "source": [
    "clusters"
   ]
  },
  {
   "cell_type": "code",
   "execution_count": null,
   "metadata": {},
   "outputs": [],
   "source": [
    "data['Clusters'] = clusters"
   ]
  },
  {
   "cell_type": "code",
   "execution_count": null,
   "metadata": {},
   "outputs": [],
   "source": [
    "fig, axes = plt.subplots(2, 2, figsize = (20, 10))\n",
    "\n",
    "ax1 = fig.add_subplot(sns.distplot((data['Difference de population'] - data['Difference de population'].mean()) / data.std()['Difference de population'], norm_hist = True, ax=axes[0, 0]))\n",
    "ax2 = fig.add_subplot(sns.distplot((data['Disponibilité alimentaire Kcal'] - data['Disponibilité alimentaire Kcal'].mean()) / data.std()['Disponibilité alimentaire Kcal'], norm_hist = True, ax=axes[0, 1]))\n",
    "ax3 = fig.add_subplot(sns.distplot(data['Disponibilité alimentaire Protéine'], norm_hist = True, ax=axes[1, 0]))\n",
    "ax4 = fig.add_subplot(sns.distplot(data['Proportion Protéine Animale'], norm_hist = True, ax=axes[1, 1]))\n",
    "                     \n",
    "ax1.title.set_text('Difference de population')\n",
    "ax2.title.set_text('Disponibilité alimentaire Kcal')\n",
    "\n",
    "fig.suptitle(\"Total\", fontsize= _FONTSIZETITLE_)\n",
    "sns.despine(left=True, bottom=True)\n",
    "plt.subplots_adjust(hspace = 0.4)\n",
    "\n",
    "plt.show()"
   ]
  },
  {
   "cell_type": "code",
   "execution_count": null,
   "metadata": {},
   "outputs": [],
   "source": [
    "data.std()['Difference de population']"
   ]
  },
  {
   "cell_type": "code",
   "execution_count": null,
   "metadata": {},
   "outputs": [],
   "source": [
    "fig, axes = plt.subplots(2, 2, figsize = (20, 10))\n",
    "\n",
    "std = data.std()['Difference de population']\n",
    "mean = data['Difference de population'].mean()\n",
    "\n",
    "ax1 = fig.add_subplot(sns.distplot((data[data['Clusters'] == 1]['Difference de population'] - mean) / std, ax=axes[0, 0]))\n",
    "ax1 = fig.add_subplot(sns.distplot((data[data['Clusters'] == 2]['Difference de population'] - mean) / std, ax=axes[0, 0]))\n",
    "\n",
    "std = data.std()['Disponibilité alimentaire Kcal']\n",
    "mean = data['Disponibilité alimentaire Kcal'].mean()\n",
    "\n",
    "ax2 = fig.add_subplot(sns.distplot((data[data['Clusters'] == 1]['Disponibilité alimentaire Kcal'] - mean) /std, ax=axes[0, 1]))\n",
    "ax2 = fig.add_subplot(sns.distplot((data[data['Clusters'] == 2]['Disponibilité alimentaire Kcal'] - mean) /std, ax=axes[0, 1]))\n",
    "\n",
    "std = data.std()['Disponibilité alimentaire Protéine']\n",
    "mean = data['Disponibilité alimentaire Protéine'].mean()\n",
    "\n",
    "ax3 = fig.add_subplot(sns.distplot((data[data['Clusters'] == 1]['Disponibilité alimentaire Protéine'] - mean) /std, ax=axes[1, 0]))\n",
    "ax3 = fig.add_subplot(sns.distplot((data[data['Clusters'] == 2]['Disponibilité alimentaire Protéine'] - mean) /std, ax=axes[1, 0]))\n",
    "\n",
    "std = data.std()['Proportion Protéine Animale']\n",
    "mean = data['Proportion Protéine Animale'].mean()\n",
    "\n",
    "ax4 = fig.add_subplot(sns.distplot((data[data['Clusters'] == 1]['Proportion Protéine Animale'] - mean) /std, ax=axes[1, 1]))\n",
    "ax4 = fig.add_subplot(sns.distplot((data[data['Clusters'] == 2]['Proportion Protéine Animale'] - mean) /std, ax=axes[1, 1]))\n",
    "                     \n",
    "ax1.title.set_text('Difference de population')\n",
    "ax2.title.set_text('Disponibilité alimentaire Kcal')\n",
    "\n",
    "fig.suptitle(\"Cluster 1\", fontsize= _FONTSIZETITLE_)\n",
    "sns.despine(left=True, bottom=True)\n",
    "plt.subplots_adjust(hspace = 0.4)\n",
    "\n",
    "plt.show()"
   ]
  },
  {
   "cell_type": "code",
   "execution_count": null,
   "metadata": {},
   "outputs": [],
   "source": [
    "fig, axes = plt.subplots(1, 1, figsize=(20, 10))\n",
    "\n",
    "fig.suptitle('Répartition du prix en fonction de la catégorie du livre', fontsize= _FONTSIZETITLE_)\n",
    "ax1 = sns.boxplot(x='Clusters', y='Difference de population', meanprops=meanprops, showmeans=True, data=data)\n",
    "\n",
    "plt.xlabel(\"Clusters\")\n",
    "plt.ylabel(\"Difference de population\")\n",
    "\n",
    "sns.despine(left=True, bottom=True)"
   ]
  },
  {
   "cell_type": "code",
   "execution_count": null,
   "metadata": {},
   "outputs": [],
   "source": [
    "fig, axes = plt.subplots(2, 2, figsize = (20, 10))\n",
    "\n",
    "ax1 = fig.add_subplot(sns.distplot(data[data['Clusters'] == 2]['Difference de population'], ax=axes[0, 0]))\n",
    "ax2 = fig.add_subplot(sns.distplot(data[data['Clusters'] == 2]['Disponibilité alimentaire Kcal'], ax=axes[0, 1]))\n",
    "ax3 = fig.add_subplot(sns.distplot(data[data['Clusters'] == 2]['Disponibilité alimentaire Protéine'], ax=axes[1, 0]))\n",
    "ax4 = fig.add_subplot(sns.distplot(data[data['Clusters'] == 2]['Proportion Protéine Animale'], ax=axes[1, 1]))\n",
    "                     \n",
    "ax1.title.set_text('Difference de population')\n",
    "ax2.title.set_text('Disponibilité alimentaire Kcal')\n",
    "\n",
    "fig.suptitle(\"Cluster 2\", fontsize= _FONTSIZETITLE_)\n",
    "sns.despine(left=True, bottom=True)\n",
    "plt.subplots_adjust(hspace = 0.4)\n",
    "\n",
    "plt.show()"
   ]
  },
  {
   "cell_type": "code",
   "execution_count": null,
   "metadata": {},
   "outputs": [],
   "source": [
    "data"
   ]
  },
  {
   "cell_type": "markdown",
   "metadata": {},
   "source": [
    "### ACP"
   ]
  },
  {
   "cell_type": "code",
   "execution_count": null,
   "metadata": {
    "scrolled": false
   },
   "outputs": [],
   "source": [
    "fig, axes = plt.subplots(figsize = (20, 10))\n",
    "\n",
    "# choix du nombre de composantes à calculer\n",
    "n_comp = 4\n",
    "\n",
    "# selection des colonnes à prendre en compte dans l'ACP\n",
    "data_pca = data[[\"Difference de population\",\"Disponibilité alimentaire Kcal\",\"Disponibilité alimentaire Protéine\",\"Proportion Protéine Animale\"]]\n",
    "\n",
    "# préparation des données pour l'ACP\n",
    "X = data_pca.values\n",
    "names = data.index #pour avoir les intitulés\n",
    "features = data.columns\n",
    "\n",
    "# Centrage et Réduction\n",
    "std_scale = preprocessing.StandardScaler().fit(X)\n",
    "X_scaled = std_scale.transform(X)\n",
    "\n",
    "# Calcul des composantes principales\n",
    "pca = decomposition.PCA(n_components=n_comp)\n",
    "pca.fit(X_scaled)\n",
    "\n",
    "# Eboulis des valeurs propres\n",
    "OCR.display_scree_plot(pca)\n",
    "\n",
    "plt.show()"
   ]
  },
  {
   "cell_type": "code",
   "execution_count": null,
   "metadata": {},
   "outputs": [],
   "source": [
    "print((\"Explained Variance: %s\") % (pca.fit(X).explained_variance_ratio_))"
   ]
  },
  {
   "cell_type": "code",
   "execution_count": null,
   "metadata": {
    "scrolled": false
   },
   "outputs": [],
   "source": [
    "# Cercle des corrélations\n",
    "pcs = pca.components_\n",
    "OCR.display_circles(pcs, n_comp, pca, [(0,1),(2,3)], labels = np.array(features))\n",
    "\n",
    "# Projection des individus\n",
    "X_projected = pca.transform(X_scaled)\n",
    "OCR.display_factorial_planes(X_projected, n_comp, pca, [(0,1),(2,3)], clusters)#, labels = np.array(names))"
   ]
  },
  {
   "cell_type": "code",
   "execution_count": null,
   "metadata": {},
   "outputs": [],
   "source": [
    "corrmat = np.abs(data.corr())\n",
    "f, ax = plt.subplots(figsize=(20, 10))\n",
    "sns.heatmap(corrmat, vmin = 0, vmax=1, square=True, annot = True)"
   ]
  },
  {
   "cell_type": "code",
   "execution_count": null,
   "metadata": {},
   "outputs": [],
   "source": [
    "sns.pairplot(data, hue='Clusters')"
   ]
  },
  {
   "cell_type": "code",
   "execution_count": null,
   "metadata": {},
   "outputs": [],
   "source": [
    "pcs"
   ]
  },
  {
   "cell_type": "code",
   "execution_count": null,
   "metadata": {
    "scrolled": false
   },
   "outputs": [],
   "source": [
    "X_projected = np.hstack((X_projected, np.atleast_2d(clusters).T))"
   ]
  },
  {
   "cell_type": "code",
   "execution_count": null,
   "metadata": {},
   "outputs": [],
   "source": [
    "clusters"
   ]
  },
  {
   "cell_type": "code",
   "execution_count": null,
   "metadata": {},
   "outputs": [],
   "source": [
    "meanD1 = []\n",
    "meanD2 = []"
   ]
  },
  {
   "cell_type": "code",
   "execution_count": null,
   "metadata": {},
   "outputs": [],
   "source": [
    "meanD1.append(X_projected[X_projected[ : , -1] == 2][:, 0].mean())"
   ]
  },
  {
   "cell_type": "code",
   "execution_count": null,
   "metadata": {},
   "outputs": [],
   "source": [
    "meanD1"
   ]
  },
  {
   "cell_type": "code",
   "execution_count": null,
   "metadata": {},
   "outputs": [],
   "source": [
    "for i in range(1,int(data.max().clusters)+1):\n",
    "    meanD1.append(X_projected[X_projected[ : , -1] == i][:, 0].mean())\n",
    "    meanD2.append(X_projected[X_projected[ : , -1] == i][:, 1].mean())"
   ]
  },
  {
   "cell_type": "code",
   "execution_count": null,
   "metadata": {},
   "outputs": [],
   "source": [
    "X_projected[X_projected[ : , -1] == i][:, 0].mean()"
   ]
  },
  {
   "cell_type": "code",
   "execution_count": null,
   "metadata": {},
   "outputs": [],
   "source": [
    "meanD1"
   ]
  },
  {
   "cell_type": "code",
   "execution_count": null,
   "metadata": {},
   "outputs": [],
   "source": []
  }
 ],
 "metadata": {
  "kernelspec": {
   "display_name": "Python 3",
   "language": "python",
   "name": "python3"
  },
  "language_info": {
   "codemirror_mode": {
    "name": "ipython",
    "version": 3
   },
   "file_extension": ".py",
   "mimetype": "text/x-python",
   "name": "python",
   "nbconvert_exporter": "python",
   "pygments_lexer": "ipython3",
   "version": "3.7.6"
  }
 },
 "nbformat": 4,
 "nbformat_minor": 4
}
