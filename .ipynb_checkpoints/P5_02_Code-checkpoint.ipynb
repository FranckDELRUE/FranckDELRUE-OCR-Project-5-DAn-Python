{
 "cells": [
  {
   "cell_type": "markdown",
   "metadata": {},
   "source": [
    "# Projet 5 - Produisez une étude de marché"
   ]
  },
  {
   "cell_type": "markdown",
   "metadata": {},
   "source": [
    "## Partie I - Importation des données"
   ]
  },
  {
   "cell_type": "markdown",
   "metadata": {},
   "source": [
    "### Importation des données"
   ]
  },
  {
   "cell_type": "code",
   "execution_count": 1,
   "metadata": {},
   "outputs": [],
   "source": [
    "import pandas as pd\n",
    "import seaborn as sns\n",
    "import matplotlib.pyplot as plt\n",
    "import numpy as np\n",
    "import P5_03_OCR5 as OCR\n",
    "\n",
    "from scipy.cluster.hierarchy import linkage, fcluster, cophenet, dendrogram\n",
    "\n",
    "from sklearn import preprocessing\n",
    "from sklearn import decomposition\n",
    "\n",
    "from scipy.spatial.distance import pdist\n",
    "\n",
    "from scipy.stats import pearsonr\n",
    "from scipy.stats import spearmanr\n",
    "from scipy.stats import shapiro\n",
    "\n",
    "from sklearn.cluster import KMeans\n",
    "from sklearn.metrics import silhouette_score\n",
    "\n",
    "from statsmodels.graphics.gofplots import qqplot\n",
    "\n",
    "%matplotlib inline\n",
    "\n",
    "sns.set(color_codes = True)\n",
    "#sns.set(style=\"whitegrid\")"
   ]
  },
  {
   "cell_type": "code",
   "execution_count": 2,
   "metadata": {},
   "outputs": [],
   "source": [
    "_FONTSIZE_ = 18\n",
    "_FONTSIZETITLE_ = 24\n",
    "\n",
    "params = {'legend.fontsize': 'x-large',\n",
    "          'figure.figsize': (20, 10),\n",
    "         'axes.labelsize': 'large',\n",
    "         'axes.titlesize':'x-large',\n",
    "         'xtick.labelsize':'large',\n",
    "         'ytick.labelsize':'large'}\n",
    "\n",
    "meanprops = {'marker':'o', 'markeredgecolor':'black',\n",
    "            'markerfacecolor':'firebrick'}"
   ]
  },
  {
   "cell_type": "markdown",
   "metadata": {},
   "source": [
    "### Nettoyer des données"
   ]
  },
  {
   "cell_type": "code",
   "execution_count": 3,
   "metadata": {},
   "outputs": [],
   "source": [
    "df_data_raw = pd.read_csv('./Data/data_raw.csv',encoding = \"ISO-8859-1\")"
   ]
  },
  {
   "cell_type": "markdown",
   "metadata": {},
   "source": [
    "Nous enlevons les données concernants une ensemble de pays (Code Zone supérieur à 5000)"
   ]
  },
  {
   "cell_type": "code",
   "execution_count": 4,
   "metadata": {},
   "outputs": [],
   "source": [
    "df_data = df_data_raw[~(df_data_raw['Code zone'] >= 5000)]"
   ]
  },
  {
   "cell_type": "markdown",
   "metadata": {},
   "source": [
    "Nous enlevons la Chine qui corresponds à un autre ensemble de pays (Code Zone : 351)"
   ]
  },
  {
   "cell_type": "code",
   "execution_count": 5,
   "metadata": {},
   "outputs": [],
   "source": [
    "df_data = df_data[~(df_data['Code zone'] == 351)]"
   ]
  },
  {
   "cell_type": "markdown",
   "metadata": {},
   "source": [
    "### Préparation du tableau"
   ]
  },
  {
   "cell_type": "code",
   "execution_count": 6,
   "metadata": {},
   "outputs": [],
   "source": [
    "codeElementAGarder = [511, 664, 674]\n",
    "codeProduitAGarder = [2501, 2901, 2941]"
   ]
  },
  {
   "cell_type": "code",
   "execution_count": 7,
   "metadata": {},
   "outputs": [],
   "source": [
    "df_data_cleaned = df_data.copy()"
   ]
  },
  {
   "cell_type": "code",
   "execution_count": 8,
   "metadata": {},
   "outputs": [],
   "source": [
    "df_data_cleaned = df_data[df_data['Code Produit'].isin(codeProduitAGarder)]\n",
    "df_data_cleaned = df_data_cleaned[df_data_cleaned['Code Élément'].isin(codeElementAGarder)]"
   ]
  },
  {
   "cell_type": "code",
   "execution_count": 9,
   "metadata": {},
   "outputs": [],
   "source": [
    "df_data_cleaned['Difference de population'] = df_data_cleaned['Y2017'] / df_data_cleaned['Y2014'] * 100"
   ]
  },
  {
   "cell_type": "code",
   "execution_count": 10,
   "metadata": {},
   "outputs": [],
   "source": [
    "colonne = ['Zone', 'Y2017']\n",
    "df_data_cleaned = OCR.ligneToColonne(df_data_cleaned, [2901, 664, 'Disponibilité alimentaire Kcal', colonne])\n",
    "df_data_cleaned = OCR.ligneToColonne(df_data_cleaned, [2901, 674, 'Disponibilité alimentaire Protéine', colonne])\n",
    "df_data_cleaned = OCR.ligneToColonne(df_data_cleaned, [2941, 674, 'Proportion Protéine Animale', colonne])"
   ]
  },
  {
   "cell_type": "code",
   "execution_count": 11,
   "metadata": {},
   "outputs": [],
   "source": [
    "df_data_cleaned['Proportion Protéine Animale'] /= df_data_cleaned['Disponibilité alimentaire Protéine']"
   ]
  },
  {
   "cell_type": "code",
   "execution_count": 12,
   "metadata": {},
   "outputs": [],
   "source": [
    "filt = df_data_cleaned['Code Élément'] == 511\n",
    "colonne = ['Zone', 'Difference de population', 'Disponibilité alimentaire Kcal', 'Disponibilité alimentaire Protéine', 'Proportion Protéine Animale']\n",
    "df_data_cleaned = df_data_cleaned.loc[filt, colonne]"
   ]
  },
  {
   "cell_type": "code",
   "execution_count": 13,
   "metadata": {},
   "outputs": [
    {
     "data": {
      "text/html": [
       "<div>\n",
       "<style scoped>\n",
       "    .dataframe tbody tr th:only-of-type {\n",
       "        vertical-align: middle;\n",
       "    }\n",
       "\n",
       "    .dataframe tbody tr th {\n",
       "        vertical-align: top;\n",
       "    }\n",
       "\n",
       "    .dataframe thead th {\n",
       "        text-align: right;\n",
       "    }\n",
       "</style>\n",
       "<table border=\"1\" class=\"dataframe\">\n",
       "  <thead>\n",
       "    <tr style=\"text-align: right;\">\n",
       "      <th></th>\n",
       "      <th>Zone</th>\n",
       "      <th>Difference de population</th>\n",
       "      <th>Disponibilité alimentaire Kcal</th>\n",
       "      <th>Disponibilité alimentaire Protéine</th>\n",
       "      <th>Proportion Protéine Animale</th>\n",
       "    </tr>\n",
       "  </thead>\n",
       "  <tbody>\n",
       "    <tr>\n",
       "      <th>0</th>\n",
       "      <td>Afghanistan</td>\n",
       "      <td>108.766110</td>\n",
       "      <td>2000.0</td>\n",
       "      <td>54.09</td>\n",
       "      <td>0.195045</td>\n",
       "    </tr>\n",
       "    <tr>\n",
       "      <th>5</th>\n",
       "      <td>Afrique du Sud</td>\n",
       "      <td>104.520316</td>\n",
       "      <td>2994.0</td>\n",
       "      <td>83.41</td>\n",
       "      <td>0.414339</td>\n",
       "    </tr>\n",
       "    <tr>\n",
       "      <th>10</th>\n",
       "      <td>Albanie</td>\n",
       "      <td>99.581190</td>\n",
       "      <td>3400.0</td>\n",
       "      <td>119.55</td>\n",
       "      <td>0.554914</td>\n",
       "    </tr>\n",
       "    <tr>\n",
       "      <th>15</th>\n",
       "      <td>Algérie</td>\n",
       "      <td>106.334189</td>\n",
       "      <td>3349.0</td>\n",
       "      <td>92.91</td>\n",
       "      <td>0.276719</td>\n",
       "    </tr>\n",
       "    <tr>\n",
       "      <th>20</th>\n",
       "      <td>Allemagne</td>\n",
       "      <td>101.483148</td>\n",
       "      <td>3556.0</td>\n",
       "      <td>104.20</td>\n",
       "      <td>0.605374</td>\n",
       "    </tr>\n",
       "    <tr>\n",
       "      <th>...</th>\n",
       "      <td>...</td>\n",
       "      <td>...</td>\n",
       "      <td>...</td>\n",
       "      <td>...</td>\n",
       "      <td>...</td>\n",
       "    </tr>\n",
       "    <tr>\n",
       "      <th>835</th>\n",
       "      <td>Venezuela (République bolivarienne du)</td>\n",
       "      <td>97.868087</td>\n",
       "      <td>2247.0</td>\n",
       "      <td>56.28</td>\n",
       "      <td>0.450782</td>\n",
       "    </tr>\n",
       "    <tr>\n",
       "      <th>840</th>\n",
       "      <td>Viet Nam</td>\n",
       "      <td>103.147616</td>\n",
       "      <td>2938.0</td>\n",
       "      <td>90.03</td>\n",
       "      <td>0.408864</td>\n",
       "    </tr>\n",
       "    <tr>\n",
       "      <th>845</th>\n",
       "      <td>Yémen</td>\n",
       "      <td>107.788761</td>\n",
       "      <td>2063.0</td>\n",
       "      <td>53.23</td>\n",
       "      <td>0.200263</td>\n",
       "    </tr>\n",
       "    <tr>\n",
       "      <th>850</th>\n",
       "      <td>Zambie</td>\n",
       "      <td>109.440453</td>\n",
       "      <td>2013.0</td>\n",
       "      <td>59.09</td>\n",
       "      <td>0.197834</td>\n",
       "    </tr>\n",
       "    <tr>\n",
       "      <th>855</th>\n",
       "      <td>Zimbabwe</td>\n",
       "      <td>104.783204</td>\n",
       "      <td>2173.0</td>\n",
       "      <td>51.21</td>\n",
       "      <td>0.226909</td>\n",
       "    </tr>\n",
       "  </tbody>\n",
       "</table>\n",
       "<p>172 rows × 5 columns</p>\n",
       "</div>"
      ],
      "text/plain": [
       "                                       Zone  Difference de population  \\\n",
       "0                               Afghanistan                108.766110   \n",
       "5                            Afrique du Sud                104.520316   \n",
       "10                                  Albanie                 99.581190   \n",
       "15                                  Algérie                106.334189   \n",
       "20                                Allemagne                101.483148   \n",
       "..                                      ...                       ...   \n",
       "835  Venezuela (République bolivarienne du)                 97.868087   \n",
       "840                                Viet Nam                103.147616   \n",
       "845                                   Yémen                107.788761   \n",
       "850                                  Zambie                109.440453   \n",
       "855                                Zimbabwe                104.783204   \n",
       "\n",
       "     Disponibilité alimentaire Kcal  Disponibilité alimentaire Protéine  \\\n",
       "0                            2000.0                               54.09   \n",
       "5                            2994.0                               83.41   \n",
       "10                           3400.0                              119.55   \n",
       "15                           3349.0                               92.91   \n",
       "20                           3556.0                              104.20   \n",
       "..                              ...                                 ...   \n",
       "835                          2247.0                               56.28   \n",
       "840                          2938.0                               90.03   \n",
       "845                          2063.0                               53.23   \n",
       "850                          2013.0                               59.09   \n",
       "855                          2173.0                               51.21   \n",
       "\n",
       "     Proportion Protéine Animale  \n",
       "0                       0.195045  \n",
       "5                       0.414339  \n",
       "10                      0.554914  \n",
       "15                      0.276719  \n",
       "20                      0.605374  \n",
       "..                           ...  \n",
       "835                     0.450782  \n",
       "840                     0.408864  \n",
       "845                     0.200263  \n",
       "850                     0.197834  \n",
       "855                     0.226909  \n",
       "\n",
       "[172 rows x 5 columns]"
      ]
     },
     "execution_count": 13,
     "metadata": {},
     "output_type": "execute_result"
    }
   ],
   "source": [
    "df_data_cleaned"
   ]
  },
  {
   "cell_type": "markdown",
   "metadata": {},
   "source": [
    "## Partie II - Réalisation du dendrogramme"
   ]
  },
  {
   "cell_type": "markdown",
   "metadata": {},
   "source": [
    "### Importation des données nettoyés"
   ]
  },
  {
   "cell_type": "code",
   "execution_count": 14,
   "metadata": {},
   "outputs": [],
   "source": [
    "data = pd.read_csv('./Export/data.csv', index_col = 0)"
   ]
  },
  {
   "cell_type": "code",
   "execution_count": 15,
   "metadata": {},
   "outputs": [
    {
     "data": {
      "text/html": [
       "<div>\n",
       "<style scoped>\n",
       "    .dataframe tbody tr th:only-of-type {\n",
       "        vertical-align: middle;\n",
       "    }\n",
       "\n",
       "    .dataframe tbody tr th {\n",
       "        vertical-align: top;\n",
       "    }\n",
       "\n",
       "    .dataframe thead th {\n",
       "        text-align: right;\n",
       "    }\n",
       "</style>\n",
       "<table border=\"1\" class=\"dataframe\">\n",
       "  <thead>\n",
       "    <tr style=\"text-align: right;\">\n",
       "      <th></th>\n",
       "      <th>Difference de population</th>\n",
       "      <th>Disponibilité alimentaire Kcal</th>\n",
       "      <th>Disponibilité alimentaire Protéine</th>\n",
       "      <th>Proportion Protéine Animale</th>\n",
       "    </tr>\n",
       "    <tr>\n",
       "      <th>Zone</th>\n",
       "      <th></th>\n",
       "      <th></th>\n",
       "      <th></th>\n",
       "      <th></th>\n",
       "    </tr>\n",
       "  </thead>\n",
       "  <tbody>\n",
       "    <tr>\n",
       "      <th>Afghanistan</th>\n",
       "      <td>8.059596</td>\n",
       "      <td>2000.0</td>\n",
       "      <td>54.09</td>\n",
       "      <td>0.195045</td>\n",
       "    </tr>\n",
       "    <tr>\n",
       "      <th>Afrique du Sud</th>\n",
       "      <td>4.324821</td>\n",
       "      <td>2994.0</td>\n",
       "      <td>83.41</td>\n",
       "      <td>0.414339</td>\n",
       "    </tr>\n",
       "    <tr>\n",
       "      <th>Albanie</th>\n",
       "      <td>-0.420572</td>\n",
       "      <td>3400.0</td>\n",
       "      <td>119.55</td>\n",
       "      <td>0.554914</td>\n",
       "    </tr>\n",
       "    <tr>\n",
       "      <th>Algérie</th>\n",
       "      <td>5.956869</td>\n",
       "      <td>3349.0</td>\n",
       "      <td>92.91</td>\n",
       "      <td>0.276719</td>\n",
       "    </tr>\n",
       "    <tr>\n",
       "      <th>Allemagne</th>\n",
       "      <td>1.461473</td>\n",
       "      <td>3556.0</td>\n",
       "      <td>104.20</td>\n",
       "      <td>0.605374</td>\n",
       "    </tr>\n",
       "    <tr>\n",
       "      <th>...</th>\n",
       "      <td>...</td>\n",
       "      <td>...</td>\n",
       "      <td>...</td>\n",
       "      <td>...</td>\n",
       "    </tr>\n",
       "    <tr>\n",
       "      <th>Venezuela (République bolivarienne du)</th>\n",
       "      <td>-2.178354</td>\n",
       "      <td>2247.0</td>\n",
       "      <td>56.28</td>\n",
       "      <td>0.450782</td>\n",
       "    </tr>\n",
       "    <tr>\n",
       "      <th>Viet Nam</th>\n",
       "      <td>3.051565</td>\n",
       "      <td>2938.0</td>\n",
       "      <td>90.03</td>\n",
       "      <td>0.408864</td>\n",
       "    </tr>\n",
       "    <tr>\n",
       "      <th>Yémen</th>\n",
       "      <td>7.225949</td>\n",
       "      <td>2063.0</td>\n",
       "      <td>53.23</td>\n",
       "      <td>0.200263</td>\n",
       "    </tr>\n",
       "    <tr>\n",
       "      <th>Zambie</th>\n",
       "      <td>8.626110</td>\n",
       "      <td>2013.0</td>\n",
       "      <td>59.09</td>\n",
       "      <td>0.197834</td>\n",
       "    </tr>\n",
       "    <tr>\n",
       "      <th>Zimbabwe</th>\n",
       "      <td>4.564857</td>\n",
       "      <td>2173.0</td>\n",
       "      <td>51.21</td>\n",
       "      <td>0.226909</td>\n",
       "    </tr>\n",
       "  </tbody>\n",
       "</table>\n",
       "<p>172 rows × 4 columns</p>\n",
       "</div>"
      ],
      "text/plain": [
       "                                        Difference de population  \\\n",
       "Zone                                                               \n",
       "Afghanistan                                             8.059596   \n",
       "Afrique du Sud                                          4.324821   \n",
       "Albanie                                                -0.420572   \n",
       "Algérie                                                 5.956869   \n",
       "Allemagne                                               1.461473   \n",
       "...                                                          ...   \n",
       "Venezuela (République bolivarienne du)                 -2.178354   \n",
       "Viet Nam                                                3.051565   \n",
       "Yémen                                                   7.225949   \n",
       "Zambie                                                  8.626110   \n",
       "Zimbabwe                                                4.564857   \n",
       "\n",
       "                                        Disponibilité alimentaire Kcal  \\\n",
       "Zone                                                                     \n",
       "Afghanistan                                                     2000.0   \n",
       "Afrique du Sud                                                  2994.0   \n",
       "Albanie                                                         3400.0   \n",
       "Algérie                                                         3349.0   \n",
       "Allemagne                                                       3556.0   \n",
       "...                                                                ...   \n",
       "Venezuela (République bolivarienne du)                          2247.0   \n",
       "Viet Nam                                                        2938.0   \n",
       "Yémen                                                           2063.0   \n",
       "Zambie                                                          2013.0   \n",
       "Zimbabwe                                                        2173.0   \n",
       "\n",
       "                                        Disponibilité alimentaire Protéine  \\\n",
       "Zone                                                                         \n",
       "Afghanistan                                                          54.09   \n",
       "Afrique du Sud                                                       83.41   \n",
       "Albanie                                                             119.55   \n",
       "Algérie                                                              92.91   \n",
       "Allemagne                                                           104.20   \n",
       "...                                                                    ...   \n",
       "Venezuela (République bolivarienne du)                               56.28   \n",
       "Viet Nam                                                             90.03   \n",
       "Yémen                                                                53.23   \n",
       "Zambie                                                               59.09   \n",
       "Zimbabwe                                                             51.21   \n",
       "\n",
       "                                        Proportion Protéine Animale  \n",
       "Zone                                                                 \n",
       "Afghanistan                                                0.195045  \n",
       "Afrique du Sud                                             0.414339  \n",
       "Albanie                                                    0.554914  \n",
       "Algérie                                                    0.276719  \n",
       "Allemagne                                                  0.605374  \n",
       "...                                                             ...  \n",
       "Venezuela (République bolivarienne du)                     0.450782  \n",
       "Viet Nam                                                   0.408864  \n",
       "Yémen                                                      0.200263  \n",
       "Zambie                                                     0.197834  \n",
       "Zimbabwe                                                   0.226909  \n",
       "\n",
       "[172 rows x 4 columns]"
      ]
     },
     "execution_count": 15,
     "metadata": {},
     "output_type": "execute_result"
    }
   ],
   "source": [
    "data"
   ]
  },
  {
   "cell_type": "markdown",
   "metadata": {},
   "source": [
    "### Préparation des données - Centrage et Réduction"
   ]
  },
  {
   "cell_type": "code",
   "execution_count": 16,
   "metadata": {},
   "outputs": [],
   "source": [
    "# préparation des données pour le clustering\n",
    "X = data.values\n",
    "names = data.index\n",
    "\n",
    "# Centrage et Réduction\n",
    "std_scale = preprocessing.StandardScaler().fit(X)\n",
    "X_scaled = std_scale.transform(X)"
   ]
  },
  {
   "cell_type": "markdown",
   "metadata": {},
   "source": [
    "### Optimisation du dendrogramme"
   ]
  },
  {
   "cell_type": "markdown",
   "metadata": {},
   "source": [
    "### Cophenetic correlation"
   ]
  },
  {
   "cell_type": "markdown",
   "metadata": {},
   "source": [
    "Nous calculons les coefficients Cophenitiques pour chaque méthode de la fonction sklearn.linkage"
   ]
  },
  {
   "cell_type": "code",
   "execution_count": 17,
   "metadata": {},
   "outputs": [
    {
     "data": {
      "text/html": [
       "<div>\n",
       "<style scoped>\n",
       "    .dataframe tbody tr th:only-of-type {\n",
       "        vertical-align: middle;\n",
       "    }\n",
       "\n",
       "    .dataframe tbody tr th {\n",
       "        vertical-align: top;\n",
       "    }\n",
       "\n",
       "    .dataframe thead th {\n",
       "        text-align: right;\n",
       "    }\n",
       "</style>\n",
       "<table border=\"1\" class=\"dataframe\">\n",
       "  <thead>\n",
       "    <tr style=\"text-align: right;\">\n",
       "      <th></th>\n",
       "      <th>Single</th>\n",
       "      <th>Complete</th>\n",
       "      <th>Average</th>\n",
       "      <th>Weighted</th>\n",
       "      <th>Centroid</th>\n",
       "      <th>Median</th>\n",
       "      <th>Ward</th>\n",
       "    </tr>\n",
       "  </thead>\n",
       "  <tbody>\n",
       "    <tr>\n",
       "      <th>Cophenetic Coefficient</th>\n",
       "      <td>0.33</td>\n",
       "      <td>0.57</td>\n",
       "      <td>0.69</td>\n",
       "      <td>0.58</td>\n",
       "      <td>0.7</td>\n",
       "      <td>0.55</td>\n",
       "      <td>0.67</td>\n",
       "    </tr>\n",
       "  </tbody>\n",
       "</table>\n",
       "</div>"
      ],
      "text/plain": [
       "                        Single  Complete  Average  Weighted  Centroid  Median  \\\n",
       "Cophenetic Coefficient    0.33      0.57     0.69      0.58       0.7    0.55   \n",
       "\n",
       "                        Ward  \n",
       "Cophenetic Coefficient  0.67  "
      ]
     },
     "execution_count": 17,
     "metadata": {},
     "output_type": "execute_result"
    }
   ],
   "source": [
    "OCR.coefCophenetic(X_scaled)"
   ]
  },
  {
   "cell_type": "markdown",
   "metadata": {},
   "source": [
    "Nous constatons que la méthode Centroid à la meilleure corélation entre les distances du DataFrame et les distances du dendrogramme."
   ]
  },
  {
   "cell_type": "markdown",
   "metadata": {},
   "source": [
    "### Courbe de Lorenz et coefficient de Gini"
   ]
  },
  {
   "cell_type": "markdown",
   "metadata": {},
   "source": [
    "Nous calculons les coefficients de Gini pour chaque méthode de la fonction sklearn.linkage"
   ]
  },
  {
   "cell_type": "code",
   "execution_count": 18,
   "metadata": {},
   "outputs": [
    {
     "data": {
      "text/html": [
       "<div>\n",
       "<style scoped>\n",
       "    .dataframe tbody tr th:only-of-type {\n",
       "        vertical-align: middle;\n",
       "    }\n",
       "\n",
       "    .dataframe tbody tr th {\n",
       "        vertical-align: top;\n",
       "    }\n",
       "\n",
       "    .dataframe thead th {\n",
       "        text-align: right;\n",
       "    }\n",
       "</style>\n",
       "<table border=\"1\" class=\"dataframe\">\n",
       "  <thead>\n",
       "    <tr style=\"text-align: right;\">\n",
       "      <th></th>\n",
       "      <th>Single</th>\n",
       "      <th>Complete</th>\n",
       "      <th>Average</th>\n",
       "      <th>Weighted</th>\n",
       "      <th>Centroid</th>\n",
       "      <th>Median</th>\n",
       "      <th>Ward</th>\n",
       "    </tr>\n",
       "  </thead>\n",
       "  <tbody>\n",
       "    <tr>\n",
       "      <th>Gini Coefficient</th>\n",
       "      <td>0.216036</td>\n",
       "      <td>0.420648</td>\n",
       "      <td>0.3456</td>\n",
       "      <td>0.351943</td>\n",
       "      <td>0.320786</td>\n",
       "      <td>0.325397</td>\n",
       "      <td>0.537566</td>\n",
       "    </tr>\n",
       "  </tbody>\n",
       "</table>\n",
       "</div>"
      ],
      "text/plain": [
       "                    Single  Complete  Average  Weighted  Centroid    Median  \\\n",
       "Gini Coefficient  0.216036  0.420648   0.3456  0.351943  0.320786  0.325397   \n",
       "\n",
       "                      Ward  \n",
       "Gini Coefficient  0.537566  "
      ]
     },
     "execution_count": 18,
     "metadata": {},
     "output_type": "execute_result"
    }
   ],
   "source": [
    "OCR.coefGini(X_scaled)"
   ]
  },
  {
   "cell_type": "code",
   "execution_count": 19,
   "metadata": {},
   "outputs": [
    {
     "data": {
      "image/png": "[encoded data removed]",
      "text/plain": [
       "<Figure size 1440x1440 with 1 Axes>"
      ]
     },
     "metadata": {},
     "output_type": "display_data"
    }
   ],
   "source": [
    "fig, axes = plt.subplots(1, 1, figsize=(20, 20))\n",
    "\n",
    "fig.suptitle(\"Courbe de Lorenz en fonction des distances à chaque itération\", fontsize= _FONTSIZETITLE_)\n",
    "\n",
    "Z = linkage(X_scaled, 'centroid')\n",
    "lorenz, n, gini = OCR.lorenz(pd.DataFrame(data=Z[:,2]))\n",
    "xaxis = np.linspace(1/n,1+1/n,n+1) #Il y a un segment de taille n pour chaque individu, plus 1 segment supplémentaire d'ordonnée 0. Le premier segment commence à 0-1/n, et le dernier termine à 1+1/n.\n",
    "\n",
    "axes.plot(xaxis,lorenz,drawstyle='steps-post')\n",
    "axes.text(0.9, 0.6, f\"Gini : {gini:0.2f}\", {'color': 'C2', 'fontsize': 18}, va=\"center\", ha=\"center\")\n",
    "axes.set_xlabel('Itération')\n",
    "axes.set_ylabel('Distance cumulé')\n",
    "\n",
    "plt.show()"
   ]
  },
  {
   "cell_type": "markdown",
   "metadata": {},
   "source": [
    "### Coefficient de Silhouette"
   ]
  },
  {
   "cell_type": "code",
   "execution_count": 20,
   "metadata": {},
   "outputs": [],
   "source": [
    "methods = ['Single', 'Complete', 'Average', 'Weighted', 'Centroid', 'Median', 'Ward']\n",
    "scoreSilhouetteMethod = []\n",
    "\n",
    "for method in methods:\n",
    "    Z = linkage(X_scaled, method.lower())\n",
    "    scoreSilhouette = []\n",
    "    for cluster in range(2,11):\n",
    "        clusters = fcluster(Z, cluster, criterion='maxclust')\n",
    "        if len(set(clusters)) > 1:\n",
    "            scoreSilhouette.append(silhouette_score(X_scaled, clusters))\n",
    "        else:\n",
    "            scoreSilhouette.append(0)\n",
    "    \n",
    "    scoreSilhouetteMethod.append(scoreSilhouette)\n",
    "\n",
    "silhouette = pd.DataFrame(scoreSilhouetteMethod, index=methods, columns=range(2,11))"
   ]
  },
  {
   "cell_type": "code",
   "execution_count": 21,
   "metadata": {
    "scrolled": false
   },
   "outputs": [
    {
     "data": {
      "image/png": "[encoded data removed]",
      "text/plain": [
       "<Figure size 1440x720 with 1 Axes>"
      ]
     },
     "metadata": {},
     "output_type": "display_data"
    }
   ],
   "source": [
    "fig = plt.figure(figsize=(20,10))\n",
    "\n",
    "for i in range(1,7):\n",
    "    sns.lineplot(y=silhouette.iloc[i, :].values, x=silhouette.iloc[i, :].index, label=methods[i])"
   ]
  },
  {
   "cell_type": "code",
   "execution_count": 22,
   "metadata": {},
   "outputs": [
    {
     "data": {
      "text/html": [
       "<div>\n",
       "<style scoped>\n",
       "    .dataframe tbody tr th:only-of-type {\n",
       "        vertical-align: middle;\n",
       "    }\n",
       "\n",
       "    .dataframe tbody tr th {\n",
       "        vertical-align: top;\n",
       "    }\n",
       "\n",
       "    .dataframe thead th {\n",
       "        text-align: right;\n",
       "    }\n",
       "</style>\n",
       "<table border=\"1\" class=\"dataframe\">\n",
       "  <thead>\n",
       "    <tr style=\"text-align: right;\">\n",
       "      <th></th>\n",
       "      <th>2</th>\n",
       "      <th>3</th>\n",
       "      <th>4</th>\n",
       "      <th>5</th>\n",
       "      <th>6</th>\n",
       "      <th>7</th>\n",
       "      <th>8</th>\n",
       "      <th>9</th>\n",
       "      <th>10</th>\n",
       "    </tr>\n",
       "  </thead>\n",
       "  <tbody>\n",
       "    <tr>\n",
       "      <th>Single</th>\n",
       "      <td>0.197957</td>\n",
       "      <td>0.124644</td>\n",
       "      <td>0.126938</td>\n",
       "      <td>0.004341</td>\n",
       "      <td>-0.059511</td>\n",
       "      <td>-0.081512</td>\n",
       "      <td>-0.130853</td>\n",
       "      <td>-0.147936</td>\n",
       "      <td>-0.157472</td>\n",
       "    </tr>\n",
       "    <tr>\n",
       "      <th>Complete</th>\n",
       "      <td>0.317448</td>\n",
       "      <td>0.263140</td>\n",
       "      <td>0.247429</td>\n",
       "      <td>0.244513</td>\n",
       "      <td>0.252764</td>\n",
       "      <td>0.201339</td>\n",
       "      <td>0.230718</td>\n",
       "      <td>0.225390</td>\n",
       "      <td>0.227323</td>\n",
       "    </tr>\n",
       "    <tr>\n",
       "      <th>Average</th>\n",
       "      <td>0.417048</td>\n",
       "      <td>0.390138</td>\n",
       "      <td>0.292615</td>\n",
       "      <td>0.262507</td>\n",
       "      <td>0.199610</td>\n",
       "      <td>0.166721</td>\n",
       "      <td>0.162243</td>\n",
       "      <td>0.100506</td>\n",
       "      <td>0.078947</td>\n",
       "    </tr>\n",
       "    <tr>\n",
       "      <th>Weighted</th>\n",
       "      <td>0.322725</td>\n",
       "      <td>0.223139</td>\n",
       "      <td>0.259714</td>\n",
       "      <td>0.240643</td>\n",
       "      <td>0.214820</td>\n",
       "      <td>0.224826</td>\n",
       "      <td>0.212937</td>\n",
       "      <td>0.207615</td>\n",
       "      <td>0.187904</td>\n",
       "    </tr>\n",
       "    <tr>\n",
       "      <th>Centroid</th>\n",
       "      <td>0.000000</td>\n",
       "      <td>0.398764</td>\n",
       "      <td>0.310991</td>\n",
       "      <td>0.277348</td>\n",
       "      <td>0.251461</td>\n",
       "      <td>0.170602</td>\n",
       "      <td>0.145922</td>\n",
       "      <td>0.145922</td>\n",
       "      <td>0.099558</td>\n",
       "    </tr>\n",
       "    <tr>\n",
       "      <th>Median</th>\n",
       "      <td>0.317659</td>\n",
       "      <td>0.281994</td>\n",
       "      <td>0.196538</td>\n",
       "      <td>0.153476</td>\n",
       "      <td>0.153476</td>\n",
       "      <td>0.214899</td>\n",
       "      <td>0.199925</td>\n",
       "      <td>0.191505</td>\n",
       "      <td>0.184365</td>\n",
       "    </tr>\n",
       "    <tr>\n",
       "      <th>Ward</th>\n",
       "      <td>0.431345</td>\n",
       "      <td>0.291186</td>\n",
       "      <td>0.215504</td>\n",
       "      <td>0.236917</td>\n",
       "      <td>0.238267</td>\n",
       "      <td>0.240679</td>\n",
       "      <td>0.243635</td>\n",
       "      <td>0.217935</td>\n",
       "      <td>0.226006</td>\n",
       "    </tr>\n",
       "  </tbody>\n",
       "</table>\n",
       "</div>"
      ],
      "text/plain": [
       "                 2         3         4         5         6         7  \\\n",
       "Single    0.197957  0.124644  0.126938  0.004341 -0.059511 -0.081512   \n",
       "Complete  0.317448  0.263140  0.247429  0.244513  0.252764  0.201339   \n",
       "Average   0.417048  0.390138  0.292615  0.262507  0.199610  0.166721   \n",
       "Weighted  0.322725  0.223139  0.259714  0.240643  0.214820  0.224826   \n",
       "Centroid  0.000000  0.398764  0.310991  0.277348  0.251461  0.170602   \n",
       "Median    0.317659  0.281994  0.196538  0.153476  0.153476  0.214899   \n",
       "Ward      0.431345  0.291186  0.215504  0.236917  0.238267  0.240679   \n",
       "\n",
       "                 8         9        10  \n",
       "Single   -0.130853 -0.147936 -0.157472  \n",
       "Complete  0.230718  0.225390  0.227323  \n",
       "Average   0.162243  0.100506  0.078947  \n",
       "Weighted  0.212937  0.207615  0.187904  \n",
       "Centroid  0.145922  0.145922  0.099558  \n",
       "Median    0.199925  0.191505  0.184365  \n",
       "Ward      0.243635  0.217935  0.226006  "
      ]
     },
     "execution_count": 22,
     "metadata": {},
     "output_type": "execute_result"
    }
   ],
   "source": [
    "silhouette"
   ]
  },
  {
   "cell_type": "markdown",
   "metadata": {},
   "source": [
    "Nous constatons que les données, au delà de 2 clusters, commence à presenter une superposition des clusters de plus en plus importantes. Pour la méthode centroide, nous obtenons un meilleur résultat pour 3 clusters uniquement du fait que pour la division en deux clusters, un seul cluster est selectionné."
   ]
  },
  {
   "cell_type": "markdown",
   "metadata": {},
   "source": [
    "## Partie III - Analyse exploratoire"
   ]
  },
  {
   "cell_type": "markdown",
   "metadata": {},
   "source": [
    "Nous allons faire une analyse exploratoire des 4 variables en fonction des 5 clusters sélectionnés afin de determiner et d'analyser lescaractéristique de selection des clusters"
   ]
  },
  {
   "cell_type": "code",
   "execution_count": 23,
   "metadata": {},
   "outputs": [
    {
     "data": {
      "text/html": [
       "<div>\n",
       "<style scoped>\n",
       "    .dataframe tbody tr th:only-of-type {\n",
       "        vertical-align: middle;\n",
       "    }\n",
       "\n",
       "    .dataframe tbody tr th {\n",
       "        vertical-align: top;\n",
       "    }\n",
       "\n",
       "    .dataframe thead th {\n",
       "        text-align: right;\n",
       "    }\n",
       "</style>\n",
       "<table border=\"1\" class=\"dataframe\">\n",
       "  <thead>\n",
       "    <tr style=\"text-align: right;\">\n",
       "      <th></th>\n",
       "      <th>Difference de population</th>\n",
       "      <th>Disponibilité alimentaire Kcal</th>\n",
       "      <th>Disponibilité alimentaire Protéine</th>\n",
       "      <th>Proportion Protéine Animale</th>\n",
       "    </tr>\n",
       "  </thead>\n",
       "  <tbody>\n",
       "    <tr>\n",
       "      <th>1</th>\n",
       "      <td>3.783172</td>\n",
       "      <td>2477.843750</td>\n",
       "      <td>63.128125</td>\n",
       "      <td>0.337672</td>\n",
       "    </tr>\n",
       "    <tr>\n",
       "      <th>2</th>\n",
       "      <td>8.185871</td>\n",
       "      <td>2445.769231</td>\n",
       "      <td>62.353846</td>\n",
       "      <td>0.246908</td>\n",
       "    </tr>\n",
       "    <tr>\n",
       "      <th>3</th>\n",
       "      <td>1.878213</td>\n",
       "      <td>3391.774194</td>\n",
       "      <td>109.525806</td>\n",
       "      <td>0.617648</td>\n",
       "    </tr>\n",
       "    <tr>\n",
       "      <th>4</th>\n",
       "      <td>4.481461</td>\n",
       "      <td>3183.650000</td>\n",
       "      <td>93.248500</td>\n",
       "      <td>0.370540</td>\n",
       "    </tr>\n",
       "    <tr>\n",
       "      <th>5</th>\n",
       "      <td>1.083659</td>\n",
       "      <td>2967.840000</td>\n",
       "      <td>85.301800</td>\n",
       "      <td>0.527579</td>\n",
       "    </tr>\n",
       "  </tbody>\n",
       "</table>\n",
       "</div>"
      ],
      "text/plain": [
       "   Difference de population  Disponibilité alimentaire Kcal  \\\n",
       "1                  3.783172                     2477.843750   \n",
       "2                  8.185871                     2445.769231   \n",
       "3                  1.878213                     3391.774194   \n",
       "4                  4.481461                     3183.650000   \n",
       "5                  1.083659                     2967.840000   \n",
       "\n",
       "   Disponibilité alimentaire Protéine  Proportion Protéine Animale  \n",
       "1                           63.128125                     0.337672  \n",
       "2                           62.353846                     0.246908  \n",
       "3                          109.525806                     0.617648  \n",
       "4                           93.248500                     0.370540  \n",
       "5                           85.301800                     0.527579  "
      ]
     },
     "execution_count": 23,
     "metadata": {},
     "output_type": "execute_result"
    }
   ],
   "source": [
    "clusters = fcluster(Z, 5, criterion='maxclust')\n",
    "clusters2 = fcluster(Z, 2, criterion='maxclust')\n",
    "\n",
    "data.groupby(clusters).mean()"
   ]
  },
  {
   "cell_type": "code",
   "execution_count": 24,
   "metadata": {},
   "outputs": [
    {
     "ename": "NameError",
     "evalue": "name 'meanprops' is not defined",
     "output_type": "error",
     "traceback": [
      "\u001b[0;31m---------------------------------------------------------------------------\u001b[0m",
      "\u001b[0;31mNameError\u001b[0m                                 Traceback (most recent call last)",
      "\u001b[0;32m<ipython-input-24-93ff5b8a7271>\u001b[0m in \u001b[0;36m<module>\u001b[0;34m\u001b[0m\n\u001b[0;32m----> 1\u001b[0;31m \u001b[0mOCR\u001b[0m\u001b[0;34m.\u001b[0m\u001b[0mplotbox\u001b[0m\u001b[0;34m(\u001b[0m\u001b[0mdata\u001b[0m\u001b[0;34m,\u001b[0m \u001b[0mclusters\u001b[0m\u001b[0;34m)\u001b[0m\u001b[0;34m\u001b[0m\u001b[0;34m\u001b[0m\u001b[0m\n\u001b[0m",
      "\u001b[0;32m~/Documents/Cours/OCR/P5_DELRUE_Franck/P5_DELRUE_Franck_Python/P5_03_OCR5.py\u001b[0m in \u001b[0;36mplotbox\u001b[0;34m(df, clusters)\u001b[0m\n\u001b[1;32m    250\u001b[0m         \u001b[0mplt\u001b[0m\u001b[0;34m.\u001b[0m\u001b[0maxhline\u001b[0m\u001b[0;34m(\u001b[0m\u001b[0mdf\u001b[0m\u001b[0;34m.\u001b[0m\u001b[0mquantile\u001b[0m\u001b[0;34m(\u001b[0m\u001b[0;36m0.05\u001b[0m\u001b[0;34m)\u001b[0m\u001b[0;34m,\u001b[0m \u001b[0mcolor\u001b[0m\u001b[0;34m=\u001b[0m\u001b[0;34m'g'\u001b[0m\u001b[0;34m,\u001b[0m \u001b[0mlinestyle\u001b[0m \u001b[0;34m=\u001b[0m\u001b[0;34m\":\"\u001b[0m\u001b[0;34m)\u001b[0m\u001b[0;34m\u001b[0m\u001b[0;34m\u001b[0m\u001b[0m\n\u001b[1;32m    251\u001b[0m         \u001b[0mplt\u001b[0m\u001b[0;34m.\u001b[0m\u001b[0maxhline\u001b[0m\u001b[0;34m(\u001b[0m\u001b[0mdf\u001b[0m\u001b[0;34m.\u001b[0m\u001b[0mquantile\u001b[0m\u001b[0;34m(\u001b[0m\u001b[0;36m0.95\u001b[0m\u001b[0;34m)\u001b[0m\u001b[0;34m,\u001b[0m \u001b[0mcolor\u001b[0m\u001b[0;34m=\u001b[0m\u001b[0;34m'g'\u001b[0m\u001b[0;34m,\u001b[0m \u001b[0mlinestyle\u001b[0m \u001b[0;34m=\u001b[0m\u001b[0;34m\":\"\u001b[0m\u001b[0;34m)\u001b[0m\u001b[0;34m\u001b[0m\u001b[0;34m\u001b[0m\u001b[0m\n\u001b[0;32m--> 252\u001b[0;31m         \u001b[0max1\u001b[0m \u001b[0;34m=\u001b[0m \u001b[0msns\u001b[0m\u001b[0;34m.\u001b[0m\u001b[0mboxplot\u001b[0m\u001b[0;34m(\u001b[0m\u001b[0mx\u001b[0m\u001b[0;34m=\u001b[0m\u001b[0mclusters\u001b[0m\u001b[0;34m,\u001b[0m \u001b[0my\u001b[0m\u001b[0;34m=\u001b[0m\u001b[0mdf\u001b[0m\u001b[0;34m,\u001b[0m \u001b[0mmeanprops\u001b[0m\u001b[0;34m=\u001b[0m\u001b[0mmeanprops\u001b[0m\u001b[0;34m,\u001b[0m \u001b[0mshowmeans\u001b[0m\u001b[0;34m=\u001b[0m\u001b[0;32mTrue\u001b[0m\u001b[0;34m)\u001b[0m\u001b[0;34m\u001b[0m\u001b[0;34m\u001b[0m\u001b[0m\n\u001b[0m\u001b[1;32m    253\u001b[0m         \u001b[0mplt\u001b[0m\u001b[0;34m.\u001b[0m\u001b[0mxlabel\u001b[0m\u001b[0;34m(\u001b[0m\u001b[0;34m\"Cluster N°\"\u001b[0m\u001b[0;34m)\u001b[0m\u001b[0;34m\u001b[0m\u001b[0;34m\u001b[0m\u001b[0m\n\u001b[1;32m    254\u001b[0m         \u001b[0mplt\u001b[0m\u001b[0;34m.\u001b[0m\u001b[0mylabel\u001b[0m\u001b[0;34m(\u001b[0m\u001b[0mcolonne\u001b[0m \u001b[0;34m+\u001b[0m\u001b[0;34m\" (σ)\"\u001b[0m\u001b[0;34m)\u001b[0m\u001b[0;34m\u001b[0m\u001b[0;34m\u001b[0m\u001b[0m\n",
      "\u001b[0;31mNameError\u001b[0m: name 'meanprops' is not defined"
     ]
    },
    {
     "data": {
      "image/png": "[encoded data removed]",
      "text/plain": [
       "<Figure size 1440x720 with 1 Axes>"
      ]
     },
     "metadata": {},
     "output_type": "display_data"
    }
   ],
   "source": [
    "OCR.plotbox(data, clusters)"
   ]
  },
  {
   "cell_type": "code",
   "execution_count": null,
   "metadata": {
    "scrolled": false
   },
   "outputs": [],
   "source": [
    "fig, axes = plt.subplots(figsize=(20, 10))\n",
    "\n",
    "mu = data['Difference de population'].mean()\n",
    "sigma = data['Difference de population'].std()\n",
    "\n",
    "textstr = '\\n'.join((\n",
    "    r'Population : ',\n",
    "    r'$\\mu=%.2f$' % (mu, ),\n",
    "    r'$\\sigma=%.2f$' % (sigma, )))\n",
    "\n",
    "df = (data['Difference de population'] - mu) / sigma\n",
    "\n",
    "fig.suptitle('Moyenne de la Difference de population en fonction du cluster', fontsize= _FONTSIZETITLE_)\n",
    "plt.axhline(df.median(), color='g')\n",
    "axes.text(4.6, df.median(), f\"Median : {df.median():0.2f}\", {'color': 'g', 'fontsize': 12}, va=\"center\", ha=\"left\")\n",
    "axes.text(4.6, df.quantile(0.25), f\"Q25 : {df.quantile(0.25):0.2f}\", {'color': 'g', 'fontsize': 12}, va=\"center\", ha=\"left\")\n",
    "axes.text(4.6, df.quantile(0.75), f\"Q75 : {df.quantile(0.75):0.2f}\", {'color': 'g', 'fontsize': 12}, va=\"center\", ha=\"left\")\n",
    "axes.text(4.6, df.quantile(0.05), f\"Q05 : {df.quantile(0.05):0.2f}\", {'color': 'g', 'fontsize': 12}, va=\"center\", ha=\"left\")\n",
    "axes.text(4.6, df.quantile(0.95), f\"Q95 : {df.quantile(0.95):0.2f}\", {'color': 'g', 'fontsize': 12}, va=\"center\", ha=\"left\")\n",
    "plt.axhline(df.quantile(0.25), color='g', linestyle =\"--\")\n",
    "plt.axhline(df.quantile(0.75), color='g', linestyle =\"--\")\n",
    "plt.axhline(df.quantile(0.05), color='g', linestyle =\":\")\n",
    "plt.axhline(df.quantile(0.95), color='g', linestyle =\":\")\n",
    "ax1 = sns.boxplot(x=clusters, y=df, showmeans=True)\n",
    "plt.xlabel(\"Cluster N°\")\n",
    "plt.ylabel(\"Difference de population (σ)\")\n",
    "\n",
    "# these are matplotlib.patch.Patch properties\n",
    "props = dict(boxstyle='round', facecolor='wheat', alpha=0.5)\n",
    "\n",
    "# place a text box in upper left in axes coords\n",
    "axes.text(0.03, 0.95, textstr, transform=axes.transAxes, fontsize=14,\n",
    "        verticalalignment='top', bbox=props)\n",
    "\n",
    "plt.show()\n",
    "\n",
    "fig, axes = plt.subplots(figsize=(20, 10))\n",
    "plt.axhline(df.median(), color='g')\n",
    "plt.axhline(df.quantile(0.25), color='g', linestyle =\"--\")\n",
    "plt.axhline(df.quantile(0.75), color='g', linestyle =\"--\")\n",
    "ax1 = sns.boxplot(x=clusters2, y=df, meanprops=meanprops, showmeans=True)\n",
    "plt.xlabel(\"Cluster N°\")\n",
    "plt.ylabel(\"Difference de population (σ)\")\n",
    "plt.show()\n",
    "\n",
    "df = (data['Disponibilité alimentaire Kcal'] - data['Disponibilité alimentaire Kcal'].mean()) / data['Disponibilité alimentaire Kcal'].std()\n",
    "\n",
    "fig, axes = plt.subplots(figsize=(20, 10))\n",
    "fig.suptitle('Moyenne de la Disponibilité alimentaire en Kcal en fonction du cluster', fontsize= _FONTSIZETITLE_)\n",
    "plt.axhline(df.median(), color='g')\n",
    "plt.axhline(df.quantile(0.25), color='g', linestyle =\"--\")\n",
    "plt.axhline(df.quantile(0.75), color='g', linestyle =\"--\")\n",
    "ax2 = sns.boxplot(x=clusters, y=df, meanprops=meanprops, showmeans=True)\n",
    "plt.xlabel(\"Cluster N°\")\n",
    "plt.ylabel(\"Disponibilité alimentaire Kcal\")\n",
    "plt.show()\n",
    "\n",
    "df = (data['Disponibilité alimentaire Protéine'] - data['Disponibilité alimentaire Protéine'].mean()) / data['Disponibilité alimentaire Protéine'].std()\n",
    "\n",
    "fig, axes = plt.subplots(figsize=(20, 10))\n",
    "plt.axhline(df.median(), color='g')\n",
    "plt.axhline(df.quantile(0.25), color='g', linestyle =\"--\")\n",
    "plt.axhline(df.quantile(0.75), color='g', linestyle =\"--\")\n",
    "ax3 = sns.boxplot(x=clusters, y=df, meanprops=meanprops, showmeans=True)\n",
    "plt.xlabel(\"Cluster N°\")\n",
    "plt.ylabel(\"Disponibilité alimentaire Protéine\")\n",
    "plt.show()\n",
    "\n",
    "df = (data['Proportion Protéine Animale'] - data['Proportion Protéine Animale'].mean()) / data['Proportion Protéine Animale'].std()\n",
    "\n",
    "fig, axes = plt.subplots(figsize=(20, 10))\n",
    "plt.axhline(df.median(), color='g')\n",
    "plt.axhline(df.quantile(0.25), color='g', linestyle =\"--\")\n",
    "plt.axhline(df.quantile(0.75), color='g', linestyle =\"--\")\n",
    "ax4 = sns.boxplot(x=clusters, y=df, meanprops=meanprops, showmeans=True)\n",
    "plt.xlabel(\"Cluster N°\")\n",
    "plt.ylabel(\"Proportion Protéine Animale\")\n",
    "plt.show()\n",
    "\n",
    "sns.despine(left=True, bottom=True)\n",
    "sns.despine(offset=10, trim=True)"
   ]
  },
  {
   "cell_type": "code",
   "execution_count": null,
   "metadata": {},
   "outputs": [],
   "source": []
  },
  {
   "cell_type": "code",
   "execution_count": null,
   "metadata": {},
   "outputs": [],
   "source": [
    "for colonne in data.columns:\n",
    "    print(colonne)"
   ]
  },
  {
   "cell_type": "markdown",
   "metadata": {},
   "source": [
    "Nous allons ajouter des variables supplémentaires afin de pouvoir créer 5 clusters avec nos données. Nous choissirons le PIB, l'exportation de viande de poulet, ainsi que l'importation de viande de poulet."
   ]
  },
  {
   "cell_type": "markdown",
   "metadata": {},
   "source": [
    "### Importation et Exportation du poulet par pays et par habitant"
   ]
  },
  {
   "cell_type": "markdown",
   "metadata": {},
   "source": [
    "#### Nettoyer des données"
   ]
  },
  {
   "cell_type": "code",
   "execution_count": null,
   "metadata": {},
   "outputs": [],
   "source": [
    "df_data_i_e_raw = pd.read_csv('./Data/data_import_export.csv')"
   ]
  },
  {
   "cell_type": "markdown",
   "metadata": {},
   "source": [
    "Nous enlevons la Chine qui corresponds à un autre ensemble de pays (Code Zone : 351)"
   ]
  },
  {
   "cell_type": "code",
   "execution_count": null,
   "metadata": {},
   "outputs": [],
   "source": [
    "df_data_i_e = df_data_i_e_raw[~(df_data_i_e_raw['Code zone'] == 351)]"
   ]
  },
  {
   "cell_type": "markdown",
   "metadata": {},
   "source": [
    "#### Préparation du tableau"
   ]
  },
  {
   "cell_type": "code",
   "execution_count": null,
   "metadata": {},
   "outputs": [],
   "source": [
    "codeElementAGarder = [5610, 5910]"
   ]
  },
  {
   "cell_type": "code",
   "execution_count": null,
   "metadata": {},
   "outputs": [],
   "source": [
    "df_data_i_e_cleaned = df_data_i_e.copy()"
   ]
  },
  {
   "cell_type": "code",
   "execution_count": null,
   "metadata": {},
   "outputs": [],
   "source": [
    "df_data_i_e_cleaned = df_data_i_e[df_data_i_e['Code Élément'].isin(codeElementAGarder)]"
   ]
  },
  {
   "cell_type": "code",
   "execution_count": null,
   "metadata": {},
   "outputs": [],
   "source": [
    "colonne = ['Zone', 'Valeur']\n",
    "df_data_i_e_cleaned = OCR.ligneToColonne(df_data_i_e_cleaned, [1061, 5610, 'Importations - Quantité', colonne])\n",
    "df_data_i_e_cleaned = OCR.ligneToColonne(df_data_i_e_cleaned, [1061, 5910, 'Exportations - Quantité', colonne])"
   ]
  },
  {
   "cell_type": "code",
   "execution_count": null,
   "metadata": {},
   "outputs": [],
   "source": [
    "filt = df_data_i_e_cleaned['Code Élément'] == 5610\n",
    "colonne = ['Zone', 'Importations - Quantité', 'Exportations - Quantité']\n",
    "df_data_i_e_cleaned = df_data_i_e_cleaned.loc[filt, colonne]"
   ]
  },
  {
   "cell_type": "code",
   "execution_count": null,
   "metadata": {},
   "outputs": [],
   "source": [
    "df_data_i_e_cleaned"
   ]
  },
  {
   "cell_type": "markdown",
   "metadata": {},
   "source": [
    "---------------------------- Début Brouillon ------------------------"
   ]
  },
  {
   "cell_type": "code",
   "execution_count": null,
   "metadata": {},
   "outputs": [],
   "source": [
    "df_data_i_e_cleaned[df_data_i_e_cleaned['Exportations - Quantité'] > 0]"
   ]
  },
  {
   "cell_type": "code",
   "execution_count": null,
   "metadata": {},
   "outputs": [],
   "source": []
  },
  {
   "cell_type": "code",
   "execution_count": null,
   "metadata": {},
   "outputs": [],
   "source": []
  },
  {
   "cell_type": "markdown",
   "metadata": {},
   "source": [
    "### Dendrogramme"
   ]
  },
  {
   "cell_type": "code",
   "execution_count": null,
   "metadata": {
    "scrolled": false
   },
   "outputs": [],
   "source": [
    "# Affichage du dendrogramme tronqué\n",
    "plt.figure(figsize=(20,25))\n",
    "plt.title('Hierarchical Clustering Dendrogram')\n",
    "plt.xlabel('sample index')\n",
    "plt.ylabel('distance')\n",
    "plt.axvline(x=2.3, c='k')\n",
    "dendrogram(\n",
    "    Z,\n",
    "    labels = names,\n",
    "    orientation = \"left\",\n",
    "    color_threshold = 2.3,\n",
    "    truncate_mode='lastp',  # show only the last p merged clusters\n",
    "    p=10\n",
    ")\n",
    "plt.show()"
   ]
  },
  {
   "cell_type": "code",
   "execution_count": null,
   "metadata": {},
   "outputs": [],
   "source": [
    "# Affichage du dendrogramme complet\n",
    "plt.figure(figsize=(20,35))\n",
    "plt.title('Hierarchical Clustering Dendrogram')\n",
    "plt.xlabel('sample index')\n",
    "plt.ylabel('distance')\n",
    "plt.axvline(x=2.7, c='k')\n",
    "dendrogram(\n",
    "    Z,\n",
    "    labels = names,\n",
    "    orientation = \"left\",\n",
    "    color_threshold = 2.7,\n",
    "    leaf_font_size = 8\n",
    ")\n",
    "plt.show()"
   ]
  },
  {
   "cell_type": "code",
   "execution_count": null,
   "metadata": {},
   "outputs": [],
   "source": [
    "silhouette"
   ]
  },
  {
   "cell_type": "code",
   "execution_count": null,
   "metadata": {},
   "outputs": [],
   "source": [
    "df = pd.DataFrame(data=X)\n",
    "df.columns = [\"Difference de population\",\"Disponibilité alimentaire Kcal\",\"Disponibilité alimentaire Protéine\",\"Proportion Protéine Animale\"]\n",
    "df['Clusters'] = fcluster(Z, 5, criterion='maxclust')\n",
    "sns.pairplot(df, hue='Clusters', height=4)"
   ]
  },
  {
   "cell_type": "markdown",
   "metadata": {},
   "source": [
    "Nous voyons que : \n",
    " * le cluster 1 - en bleu - est en croissance démographique modéré, avec une disponibilité alimentaire convenable.\n",
    " * le cluster 2 - en orange - a une croissance démographique faible et une proportion de protéine alimentaire forte\n",
    " * le cluster 3 - en vert - est en croissance démographique forte et une proportion de protéine alimentaire faible \n",
    " * le cluster 4 - en rouge - a une croissance démographique modérée et une proportion de protéine alimentaire faible\n",
    " * le cluster 5 - en violet - est en croissance démographique faible avec une proportion de protéine alimentaire élevée "
   ]
  },
  {
   "cell_type": "code",
   "execution_count": null,
   "metadata": {
    "scrolled": false
   },
   "outputs": [],
   "source": [
    "fig = plt.figure(figsize=(20,10))\n",
    "        \n",
    "color1=[0, 0, 1, 1]\n",
    "color2=[1, 0.65, 0, 1]\n",
    "color3=[0, 1, 0, 1]\n",
    "color4=[1, 0, 0, 1]\n",
    "color5=[0.29, 0, 0.51, 1]\n",
    "\n",
    "colormap = np.array([color1, color2, color3, color4, color5])\n",
    "\n",
    "# affichage des points\n",
    "for i in range(1,6):\n",
    "    plt.scatter(df[df['Clusters'] == i].iloc[:, 0], df[df['Clusters'] == i].iloc[:, 1], c = colormap[i-1])\n",
    "    meanD1 = df[df['Clusters'] == i].iloc[:, 0].mean()\n",
    "    meanD2 = df[df['Clusters'] == i].iloc[:, 1].mean()\n",
    "    plt.scatter(meanD1, meanD2, marker = '^', s = 200, c = colormap[i-1])\n",
    "    \n",
    "plt.show()"
   ]
  },
  {
   "cell_type": "markdown",
   "metadata": {},
   "source": [
    "### Calcul de correlation"
   ]
  },
  {
   "cell_type": "code",
   "execution_count": null,
   "metadata": {},
   "outputs": [],
   "source": [
    "for i in range(len(df.columns)-1):\n",
    "    for j in range(i+1, len(df.columns)-1):\n",
    "        statp, pp = pearsonr(df.iloc[:,i], df.iloc[:,j])\n",
    "        stats, ps = spearmanr(df.iloc[:,i], df.iloc[:,j])\n",
    "        print('corrélation entre', df.columns[i], 'et', df.columns[j])\n",
    "        print('Pearson : stat=%.3f, p=%.3f' % (statp, pp))\n",
    "        print('Spearman : stat=%.3f, p=%.3f' % (stats, ps))\n",
    "        if pp > 0.05:\n",
    "            print('Probably independent following Pearson Test')\n",
    "        else:\n",
    "            print('Probably dependent following Pearson Test')\n",
    "            \n",
    "        if ps > 0.05:\n",
    "            print('Probably independent following Spearman Test\\n')\n",
    "        else:\n",
    "            print('Probably dependent following Spearman Test\\n')"
   ]
  },
  {
   "cell_type": "markdown",
   "metadata": {},
   "source": [
    "## Partie III - Réalisation du ACP"
   ]
  },
  {
   "cell_type": "code",
   "execution_count": null,
   "metadata": {},
   "outputs": [],
   "source": [
    "fig, axes = plt.subplots(figsize = (20, 10))\n",
    "\n",
    "# choix du nombre de composantes à calculer\n",
    "n_comp = 4\n",
    "\n",
    "# selection des colonnes à prendre en compte dans l'ACP\n",
    "data_pca = df[[\"Difference de population\",\"Disponibilité alimentaire Kcal\",\"Disponibilité alimentaire Protéine\",\"Proportion Protéine Animale\"]]\n",
    "\n",
    "# préparation des données pour l'ACP\n",
    "X = data_pca.values\n",
    "names = df.index #pour avoir les intitulés\n",
    "features = df.columns\n",
    "\n",
    "# Centrage et Réduction\n",
    "std_scale = preprocessing.StandardScaler().fit(X)\n",
    "X_scaled = std_scale.transform(X)\n",
    "\n",
    "# Calcul des composantes principales\n",
    "pca = decomposition.PCA(n_components=n_comp)\n",
    "pca.fit(X_scaled)\n",
    "\n",
    "# Eboulis des valeurs propres\n",
    "OCR.display_scree_plot(pca)\n",
    "\n",
    "plt.show()"
   ]
  },
  {
   "cell_type": "code",
   "execution_count": null,
   "metadata": {
    "scrolled": false
   },
   "outputs": [],
   "source": [
    "# Cercle des corrélations\n",
    "pcs = pca.components_\n",
    "OCR.display_circles(pcs, n_comp, pca, [(0,1),(2,3)], labels = np.array(features))\n",
    "\n",
    "# Projection des individus\n",
    "X_projected = pca.transform(X_scaled)\n",
    "OCR.display_factorial_planes(X_projected, n_comp, pca, [(0,1),(2,3)], df['Clusters'])#, labels = np.array(names))"
   ]
  },
  {
   "cell_type": "code",
   "execution_count": null,
   "metadata": {},
   "outputs": [],
   "source": [
    "pcs"
   ]
  },
  {
   "cell_type": "code",
   "execution_count": null,
   "metadata": {
    "scrolled": false
   },
   "outputs": [],
   "source": [
    "color1=(0, 0, 1, 1)\n",
    "color2=(1, 0.65, 0, 1)\n",
    "color3=(0, 1, 0, 1)\n",
    "color4=(1, 0, 0, 1)\n",
    "color5=(0.29, 0, 0.51, 1)\n",
    "\n",
    "colormap = np.array([color1, color2, color3, color4, color5]).reshape(1,-1)\n",
    "colormap"
   ]
  },
  {
   "cell_type": "markdown",
   "metadata": {},
   "source": [
    "## Partie IV - Choix des Clusters"
   ]
  },
  {
   "cell_type": "markdown",
   "metadata": {},
   "source": [
    "Nous allons choisir les clusters 1 - bleu - et 5 - mauve"
   ]
  },
  {
   "cell_type": "code",
   "execution_count": null,
   "metadata": {
    "scrolled": false
   },
   "outputs": [],
   "source": [
    "for i in (1,5):\n",
    "    for j in range(0, len(df.columns)-1):\n",
    "        stat, p = shapiro(df[df['Clusters'] == i].iloc[:, j])\n",
    "        print('Test de normalité pour le cluster', i, 'et la colonne', df.columns[j])\n",
    "        print('stat=%.3f, p=%.3f' % (stat, p))\n",
    "        plt.hist(df[df['Clusters'] == i].iloc[:, j])\n",
    "        qqplot(df[df['Clusters'] == i].iloc[:, j], line='s')\n",
    "        plt.show()\n",
    "        if p > 0.05:\n",
    "            print('Probably Gaussian\\n')\n",
    "        else:\n",
    "            print('Probably not Gaussian\\n')"
   ]
  },
  {
   "cell_type": "code",
   "execution_count": null,
   "metadata": {},
   "outputs": [],
   "source": []
  },
  {
   "cell_type": "code",
   "execution_count": null,
   "metadata": {},
   "outputs": [],
   "source": [
    "df[df['Clusters'] == 1].iloc[:, 0]"
   ]
  },
  {
   "cell_type": "markdown",
   "metadata": {},
   "source": [
    "## Partie IV - Application de l'ACP sur le Dendrogramme"
   ]
  },
  {
   "cell_type": "markdown",
   "metadata": {},
   "source": [
    "### Préparation des données - Centrage et Réduction"
   ]
  },
  {
   "cell_type": "code",
   "execution_count": null,
   "metadata": {},
   "outputs": [],
   "source": [
    "# préparation des données pour le clustering\n",
    "X = pd.DataFrame(data = X_projected).values\n",
    "names = data.index\n",
    "\n",
    "# Centrage et Réduction\n",
    "std_scale = preprocessing.StandardScaler().fit(X)\n",
    "X_scaled = std_scale.transform(X)\n",
    "\n",
    "# generate the linkage matrix\n",
    "Z = linkage(X_scaled, 'ward')"
   ]
  },
  {
   "cell_type": "markdown",
   "metadata": {},
   "source": [
    "### Cophenetic correlation"
   ]
  },
  {
   "cell_type": "code",
   "execution_count": null,
   "metadata": {},
   "outputs": [],
   "source": [
    "c, coph_dists = cophenet(Z, pdist(X_projected))\n",
    "f\"Cophenetic correlation : {c:0.2f}\""
   ]
  },
  {
   "cell_type": "markdown",
   "metadata": {},
   "source": [
    "### Courbe de Lorenz"
   ]
  },
  {
   "cell_type": "code",
   "execution_count": null,
   "metadata": {},
   "outputs": [],
   "source": [
    "fig, axes = plt.subplots(1, 1, figsize=(20, 20))\n",
    "\n",
    "fig.suptitle(\"Courbe de Lorenz en fonction des distances à chaque itération\", fontsize= _FONTSIZETITLE_)\n",
    "\n",
    "lorenz, n, gini = OCR.lorenz(pd.DataFrame(data=Z[:,2]))\n",
    "xaxis = np.linspace(1/n,1+1/n,n+1) #Il y a un segment de taille n pour chaque individu, plus 1 segment supplémentaire d'ordonnée 0. Le premier segment commence à 0-1/n, et le dernier termine à 1+1/n.\n",
    "\n",
    "axes.plot(xaxis,lorenz,drawstyle='steps-post')\n",
    "axes.text(0.9, 0.4, f\"Gini : {gini:0.2f}\", {'color': 'C2', 'fontsize': 18}, va=\"center\", ha=\"center\")\n",
    "axes.set_xlabel('Itération')\n",
    "axes.set_ylabel('Distance cumulé')\n",
    "\n",
    "plt.show()"
   ]
  },
  {
   "cell_type": "markdown",
   "metadata": {},
   "source": [
    "### Dendrogramme"
   ]
  },
  {
   "cell_type": "code",
   "execution_count": null,
   "metadata": {},
   "outputs": [],
   "source": [
    "# Affichage du dendrogramme tronqué\n",
    "plt.figure(figsize=(10,25))\n",
    "plt.title('Hierarchical Clustering Dendrogram')\n",
    "plt.xlabel('sample index')\n",
    "plt.ylabel('distance')\n",
    "plt.axvline(x=9.5, c='k')\n",
    "dendrogram(\n",
    "    Z,\n",
    "    labels = names,\n",
    "    orientation = \"left\",\n",
    "    color_threshold = 9.5,\n",
    "    truncate_mode='lastp',  # show only the last p merged clusters\n",
    "    p=10\n",
    ")\n",
    "plt.show()"
   ]
  },
  {
   "cell_type": "code",
   "execution_count": null,
   "metadata": {},
   "outputs": [],
   "source": [
    "# Affichage du dendrogramme complet\n",
    "plt.figure(figsize=(20,35))\n",
    "plt.title('Hierarchical Clustering Dendrogram')\n",
    "plt.xlabel('sample index')\n",
    "plt.ylabel('distance')\n",
    "plt.axvline(x=4.1, c='k')\n",
    "dendrogram(\n",
    "    Z,\n",
    "    labels = names,\n",
    "    orientation = \"left\",\n",
    "    color_threshold = 4.1,\n",
    "    leaf_font_size = 8\n",
    ")\n",
    "plt.show()"
   ]
  },
  {
   "cell_type": "code",
   "execution_count": null,
   "metadata": {},
   "outputs": [],
   "source": [
    "df = pd.DataFrame(data=X_projected)\n",
    "df.columns = [\"Difference de population\",\"Disponibilité alimentaire Kcal\",\"Disponibilité alimentaire Protéine\",\"Proportion Protéine Animale\"]\n",
    "df['Clusters'] = fcluster(Z, 5, criterion='maxclust')\n",
    "sns.pairplot(df, hue='Clusters', height=4)"
   ]
  },
  {
   "cell_type": "markdown",
   "metadata": {},
   "source": [
    "#### Calcul des vecteurs et des valeurs propre"
   ]
  },
  {
   "cell_type": "code",
   "execution_count": null,
   "metadata": {},
   "outputs": [],
   "source": [
    "fig, axes = plt.subplots(figsize = (20, 10))\n",
    "\n",
    "# choix du nombre de composantes à calculer\n",
    "n_comp = 2\n",
    "\n",
    "# selection des colonnes à prendre en compte dans l'ACP\n",
    "data_pca = df[[\"Difference de population\",\"Disponibilité alimentaire Kcal\"]]\n",
    "\n",
    "# préparation des données pour l'ACP\n",
    "X = data_pca.values\n",
    "names = df.index #pour avoir les intitulés\n",
    "features = df.columns\n",
    "\n",
    "# Centrage et Réduction\n",
    "std_scale = preprocessing.StandardScaler().fit(X)\n",
    "X_scaled = std_scale.transform(X)\n",
    "\n",
    "# Calcul des composantes principales\n",
    "pca = decomposition.PCA(n_components=n_comp)\n",
    "pca.fit(X_scaled)\n",
    "\n",
    "# Eboulis des valeurs propres\n",
    "OCR.display_scree_plot(pca)\n",
    "\n",
    "plt.show()"
   ]
  },
  {
   "cell_type": "code",
   "execution_count": null,
   "metadata": {},
   "outputs": [],
   "source": [
    "print((\"Explained Variance: %s\") % (pca.fit(X).explained_variance_ratio_))"
   ]
  },
  {
   "cell_type": "code",
   "execution_count": null,
   "metadata": {
    "scrolled": false
   },
   "outputs": [],
   "source": [
    "# Cercle des corrélations\n",
    "pcs = pca.components_\n",
    "OCR.display_circles(pcs, n_comp, pca, [(0,1),(2,3)], labels = np.array(features))\n",
    "\n",
    "# Projection des individus\n",
    "X_projected = pca.transform(X_scaled)\n",
    "OCR.display_factorial_planes(X_projected, n_comp, pca, [(0,1),(2,3)], df['Clusters'])#, labels = np.array(names))"
   ]
  },
  {
   "cell_type": "code",
   "execution_count": null,
   "metadata": {},
   "outputs": [],
   "source": [
    "covariance_matrix = np.cov(df.T)\n",
    "print(\"Covariance matrix:\\n\", covariance_matrix)"
   ]
  },
  {
   "cell_type": "code",
   "execution_count": null,
   "metadata": {},
   "outputs": [],
   "source": [
    "eigen_values, eigen_vectors = np.linalg.eig(covariance_matrix)\n",
    "print(\"Eigenvectors:\\n\", eigen_vectors, \"\\n\")\n",
    "print(\"Eigenvalues:\\n\", eigen_values)"
   ]
  },
  {
   "cell_type": "code",
   "execution_count": null,
   "metadata": {},
   "outputs": [],
   "source": [
    "eigen_vec_svd, _, _= np.linalg.svd(df.T)\n",
    "eigen_vec_svd"
   ]
  },
  {
   "cell_type": "code",
   "execution_count": null,
   "metadata": {},
   "outputs": [],
   "source": [
    "for val in eigen_values:\n",
    "    print(val)"
   ]
  },
  {
   "cell_type": "code",
   "execution_count": null,
   "metadata": {},
   "outputs": [],
   "source": [
    "variance_explained = [(i / sum(eigen_values)) * 100 for i in eigen_values]\n",
    "variance_explained"
   ]
  },
  {
   "cell_type": "code",
   "execution_count": null,
   "metadata": {},
   "outputs": [],
   "source": [
    "cumulative_variance_explained = np.cumsum(variance_explained)\n",
    "cumulative_variance_explained"
   ]
  },
  {
   "cell_type": "code",
   "execution_count": null,
   "metadata": {},
   "outputs": [],
   "source": [
    "fig, axes = plt.subplots(1, 1, figsize = (20, 10))\n",
    "sns.lineplot(x = [1,2,3], y = cumulative_variance_explained);\n",
    "plt.xlabel(\"Number of components\")\n",
    "plt.ylabel(\"Cumulative explained variance\")\n",
    "plt.title(\"Explained variance vs Number of components\")\n",
    "plt.show()"
   ]
  },
  {
   "cell_type": "code",
   "execution_count": null,
   "metadata": {},
   "outputs": [],
   "source": [
    "projection_matrix = (eigen_vectors.T[:][:])[:2, :2].T\n",
    "print(\"Projection matrix: \\n\", projection_matrix)"
   ]
  },
  {
   "cell_type": "code",
   "execution_count": null,
   "metadata": {},
   "outputs": [],
   "source": [
    "X_pca = X.dot(projection_matrix)"
   ]
  },
  {
   "cell_type": "code",
   "execution_count": null,
   "metadata": {},
   "outputs": [],
   "source": [
    "for clu in clusters:\n",
    "    sns.scatterplot(X_pca[df['Clusters']==clusters, 0],\n",
    "                   X_pca[df['Clusters']==clusters, 1])"
   ]
  },
  {
   "cell_type": "code",
   "execution_count": null,
   "metadata": {},
   "outputs": [],
   "source": [
    "corrmat = np.abs(df[df['Clusters'] == 5].iloc[:,:2].corr())\n",
    "f, ax = plt.subplots(figsize=(20, 10))\n",
    "sns.heatmap(corrmat, vmin = 0, vmax=1, square=True, annot = True)"
   ]
  },
  {
   "cell_type": "code",
   "execution_count": null,
   "metadata": {},
   "outputs": [],
   "source": [
    "df.iloc[:,2]"
   ]
  },
  {
   "cell_type": "code",
   "execution_count": null,
   "metadata": {},
   "outputs": [],
   "source": [
    "# préparation des données pour le clustering\n",
    "X = data.values\n",
    "names = data.index\n",
    "\n",
    "# Centrage et Réduction\n",
    "std_scale = preprocessing.StandardScaler().fit(X)\n",
    "X_scaled = std_scale.transform(X)\n",
    "\n",
    "# Clustering hiérarchique\n",
    "Z = linkage(X_scaled, 'ward')\n",
    "\n",
    "# Affichage du dendrogramme\n",
    "OCR.plot_dendrogram(Z, names)"
   ]
  },
  {
   "cell_type": "code",
   "execution_count": null,
   "metadata": {
    "scrolled": false
   },
   "outputs": [],
   "source": [
    "df = pd.DataFrame(data=X_scaled)\n",
    "df.index = names\n",
    "df.columns = [\"Difference de population\",\"Disponibilité alimentaire Kcal\",\"Disponibilité alimentaire Protéine\",\"Proportion Protéine Animale\"]\n",
    "\n",
    "g = sns.clustermap(df, z_score=0, cmap=\"vlag\", figsize=(20, 50))"
   ]
  },
  {
   "cell_type": "code",
   "execution_count": null,
   "metadata": {},
   "outputs": [],
   "source": [
    "df"
   ]
  },
  {
   "cell_type": "code",
   "execution_count": null,
   "metadata": {},
   "outputs": [],
   "source": [
    "# préparation des données pour le clustering\n",
    "X = data.values\n",
    "names = data.index\n",
    "\n",
    "# Centrage et Réduction\n",
    "std_scale = preprocessing.StandardScaler().fit(X)\n",
    "X_scaled = std_scale.transform(X)\n",
    "\n",
    "# Clustering hiérarchique\n",
    "Z = linkage(X_scaled, 'ward')\n",
    "\n",
    "# Affichage du dendrogramme\n",
    "OCR.plot_dendrogram(Z, names)"
   ]
  },
  {
   "cell_type": "code",
   "execution_count": null,
   "metadata": {
    "scrolled": false
   },
   "outputs": [],
   "source": [
    "df = pd.DataFrame(data=X_scaled)\n",
    "df.index = names\n",
    "df.columns = [\"Difference de population\",\"Disponibilité alimentaire Kcal\",\"Disponibilité alimentaire Protéine\",\"Proportion Protéine Animale\"]\n",
    "\n",
    "df['clusters'] = fcluster(Z, 2, criterion='maxclust')\n",
    "clusters = df.pop('clusters')\n",
    "\n",
    "lut = dict(zip(clusters.unique(), \"rbgym\"))\n",
    "row_colors = clusters.map(lut)\n",
    "\n",
    "g = sns.clustermap(df, z_score=0, cmap=\"vlag\", figsize=(20, 40), row_colors=row_colors)"
   ]
  },
  {
   "cell_type": "code",
   "execution_count": null,
   "metadata": {},
   "outputs": [],
   "source": [
    "lut"
   ]
  },
  {
   "cell_type": "markdown",
   "metadata": {},
   "source": [
    "### Découpage en 2 clusters"
   ]
  },
  {
   "cell_type": "code",
   "execution_count": null,
   "metadata": {},
   "outputs": [],
   "source": [
    "Z"
   ]
  },
  {
   "cell_type": "code",
   "execution_count": null,
   "metadata": {},
   "outputs": [],
   "source": [
    "clusters = fcluster(Z, 2, criterion='maxclust')"
   ]
  },
  {
   "cell_type": "code",
   "execution_count": null,
   "metadata": {},
   "outputs": [],
   "source": [
    "clusters"
   ]
  },
  {
   "cell_type": "code",
   "execution_count": null,
   "metadata": {},
   "outputs": [],
   "source": [
    "data['Clusters'] = clusters"
   ]
  },
  {
   "cell_type": "code",
   "execution_count": null,
   "metadata": {},
   "outputs": [],
   "source": [
    "fig, axes = plt.subplots(2, 2, figsize = (20, 10))\n",
    "\n",
    "ax1 = fig.add_subplot(sns.distplot((data['Difference de population'] - data['Difference de population'].mean()) / data.std()['Difference de population'], norm_hist = True, ax=axes[0, 0]))\n",
    "ax2 = fig.add_subplot(sns.distplot((data['Disponibilité alimentaire Kcal'] - data['Disponibilité alimentaire Kcal'].mean()) / data.std()['Disponibilité alimentaire Kcal'], norm_hist = True, ax=axes[0, 1]))\n",
    "ax3 = fig.add_subplot(sns.distplot(data['Disponibilité alimentaire Protéine'], norm_hist = True, ax=axes[1, 0]))\n",
    "ax4 = fig.add_subplot(sns.distplot(data['Proportion Protéine Animale'], norm_hist = True, ax=axes[1, 1]))\n",
    "                     \n",
    "ax1.title.set_text('Difference de population')\n",
    "ax2.title.set_text('Disponibilité alimentaire Kcal')\n",
    "\n",
    "fig.suptitle(\"Total\", fontsize= _FONTSIZETITLE_)\n",
    "sns.despine(left=True, bottom=True)\n",
    "plt.subplots_adjust(hspace = 0.4)\n",
    "\n",
    "plt.show()"
   ]
  },
  {
   "cell_type": "code",
   "execution_count": null,
   "metadata": {},
   "outputs": [],
   "source": [
    "data.std()['Difference de population']"
   ]
  },
  {
   "cell_type": "code",
   "execution_count": null,
   "metadata": {},
   "outputs": [],
   "source": [
    "fig, axes = plt.subplots(2, 2, figsize = (20, 10))\n",
    "\n",
    "std = data.std()['Difference de population']\n",
    "mean = data['Difference de population'].mean()\n",
    "\n",
    "ax1 = fig.add_subplot(sns.distplot((data[data['Clusters'] == 1]['Difference de population'] - mean) / std, ax=axes[0, 0]))\n",
    "ax1 = fig.add_subplot(sns.distplot((data[data['Clusters'] == 2]['Difference de population'] - mean) / std, ax=axes[0, 0]))\n",
    "\n",
    "std = data.std()['Disponibilité alimentaire Kcal']\n",
    "mean = data['Disponibilité alimentaire Kcal'].mean()\n",
    "\n",
    "ax2 = fig.add_subplot(sns.distplot((data[data['Clusters'] == 1]['Disponibilité alimentaire Kcal'] - mean) /std, ax=axes[0, 1]))\n",
    "ax2 = fig.add_subplot(sns.distplot((data[data['Clusters'] == 2]['Disponibilité alimentaire Kcal'] - mean) /std, ax=axes[0, 1]))\n",
    "\n",
    "std = data.std()['Disponibilité alimentaire Protéine']\n",
    "mean = data['Disponibilité alimentaire Protéine'].mean()\n",
    "\n",
    "ax3 = fig.add_subplot(sns.distplot((data[data['Clusters'] == 1]['Disponibilité alimentaire Protéine'] - mean) /std, ax=axes[1, 0]))\n",
    "ax3 = fig.add_subplot(sns.distplot((data[data['Clusters'] == 2]['Disponibilité alimentaire Protéine'] - mean) /std, ax=axes[1, 0]))\n",
    "\n",
    "std = data.std()['Proportion Protéine Animale']\n",
    "mean = data['Proportion Protéine Animale'].mean()\n",
    "\n",
    "ax4 = fig.add_subplot(sns.distplot((data[data['Clusters'] == 1]['Proportion Protéine Animale'] - mean) /std, ax=axes[1, 1]))\n",
    "ax4 = fig.add_subplot(sns.distplot((data[data['Clusters'] == 2]['Proportion Protéine Animale'] - mean) /std, ax=axes[1, 1]))\n",
    "                     \n",
    "ax1.title.set_text('Difference de population')\n",
    "ax2.title.set_text('Disponibilité alimentaire Kcal')\n",
    "\n",
    "fig.suptitle(\"Cluster 1\", fontsize= _FONTSIZETITLE_)\n",
    "sns.despine(left=True, bottom=True)\n",
    "plt.subplots_adjust(hspace = 0.4)\n",
    "\n",
    "plt.show()"
   ]
  },
  {
   "cell_type": "code",
   "execution_count": null,
   "metadata": {},
   "outputs": [],
   "source": [
    "fig, axes = plt.subplots(1, 1, figsize=(20, 10))\n",
    "\n",
    "fig.suptitle('Répartition du prix en fonction de la catégorie du livre', fontsize= _FONTSIZETITLE_)\n",
    "ax1 = sns.boxplot(x='Clusters', y='Difference de population', meanprops=meanprops, showmeans=True, data=data)\n",
    "\n",
    "plt.xlabel(\"Clusters\")\n",
    "plt.ylabel(\"Difference de population\")\n",
    "\n",
    "sns.despine(left=True, bottom=True)"
   ]
  },
  {
   "cell_type": "code",
   "execution_count": null,
   "metadata": {},
   "outputs": [],
   "source": [
    "fig, axes = plt.subplots(2, 2, figsize = (20, 10))\n",
    "\n",
    "ax1 = fig.add_subplot(sns.distplot(data[data['Clusters'] == 2]['Difference de population'], ax=axes[0, 0]))\n",
    "ax2 = fig.add_subplot(sns.distplot(data[data['Clusters'] == 2]['Disponibilité alimentaire Kcal'], ax=axes[0, 1]))\n",
    "ax3 = fig.add_subplot(sns.distplot(data[data['Clusters'] == 2]['Disponibilité alimentaire Protéine'], ax=axes[1, 0]))\n",
    "ax4 = fig.add_subplot(sns.distplot(data[data['Clusters'] == 2]['Proportion Protéine Animale'], ax=axes[1, 1]))\n",
    "                     \n",
    "ax1.title.set_text('Difference de population')\n",
    "ax2.title.set_text('Disponibilité alimentaire Kcal')\n",
    "\n",
    "fig.suptitle(\"Cluster 2\", fontsize= _FONTSIZETITLE_)\n",
    "sns.despine(left=True, bottom=True)\n",
    "plt.subplots_adjust(hspace = 0.4)\n",
    "\n",
    "plt.show()"
   ]
  },
  {
   "cell_type": "code",
   "execution_count": null,
   "metadata": {},
   "outputs": [],
   "source": [
    "data"
   ]
  },
  {
   "cell_type": "markdown",
   "metadata": {},
   "source": [
    "### ACP"
   ]
  },
  {
   "cell_type": "code",
   "execution_count": null,
   "metadata": {
    "scrolled": false
   },
   "outputs": [],
   "source": [
    "fig, axes = plt.subplots(figsize = (20, 10))\n",
    "\n",
    "# choix du nombre de composantes à calculer\n",
    "n_comp = 4\n",
    "\n",
    "# selection des colonnes à prendre en compte dans l'ACP\n",
    "data_pca = data[[\"Difference de population\",\"Disponibilité alimentaire Kcal\",\"Disponibilité alimentaire Protéine\",\"Proportion Protéine Animale\"]]\n",
    "\n",
    "# préparation des données pour l'ACP\n",
    "X = data_pca.values\n",
    "names = data.index #pour avoir les intitulés\n",
    "features = data.columns\n",
    "\n",
    "# Centrage et Réduction\n",
    "std_scale = preprocessing.StandardScaler().fit(X)\n",
    "X_scaled = std_scale.transform(X)\n",
    "\n",
    "# Calcul des composantes principales\n",
    "pca = decomposition.PCA(n_components=n_comp)\n",
    "pca.fit(X_scaled)\n",
    "\n",
    "# Eboulis des valeurs propres\n",
    "OCR.display_scree_plot(pca)\n",
    "\n",
    "plt.show()"
   ]
  },
  {
   "cell_type": "code",
   "execution_count": null,
   "metadata": {},
   "outputs": [],
   "source": [
    "print((\"Explained Variance: %s\") % (pca.fit(X).explained_variance_ratio_))"
   ]
  },
  {
   "cell_type": "code",
   "execution_count": null,
   "metadata": {
    "scrolled": false
   },
   "outputs": [],
   "source": [
    "# Cercle des corrélations\n",
    "pcs = pca.components_\n",
    "OCR.display_circles(pcs, n_comp, pca, [(0,1),(2,3)], labels = np.array(features))\n",
    "\n",
    "# Projection des individus\n",
    "X_projected = pca.transform(X_scaled)\n",
    "OCR.display_factorial_planes(X_projected, n_comp, pca, [(0,1),(2,3)], clusters)#, labels = np.array(names))"
   ]
  },
  {
   "cell_type": "code",
   "execution_count": null,
   "metadata": {},
   "outputs": [],
   "source": [
    "corrmat = np.abs(data.corr())\n",
    "f, ax = plt.subplots(figsize=(20, 10))\n",
    "sns.heatmap(corrmat, vmin = 0, vmax=1, square=True, annot = True)"
   ]
  },
  {
   "cell_type": "code",
   "execution_count": null,
   "metadata": {},
   "outputs": [],
   "source": [
    "sns.pairplot(data, hue='Clusters')"
   ]
  },
  {
   "cell_type": "code",
   "execution_count": null,
   "metadata": {},
   "outputs": [],
   "source": [
    "pcs"
   ]
  },
  {
   "cell_type": "code",
   "execution_count": null,
   "metadata": {
    "scrolled": false
   },
   "outputs": [],
   "source": [
    "X_projected = np.hstack((X_projected, np.atleast_2d(clusters).T))"
   ]
  },
  {
   "cell_type": "code",
   "execution_count": null,
   "metadata": {},
   "outputs": [],
   "source": [
    "clusters"
   ]
  },
  {
   "cell_type": "code",
   "execution_count": null,
   "metadata": {},
   "outputs": [],
   "source": [
    "meanD1 = []\n",
    "meanD2 = []"
   ]
  },
  {
   "cell_type": "code",
   "execution_count": null,
   "metadata": {},
   "outputs": [],
   "source": [
    "meanD1.append(X_projected[X_projected[ : , -1] == 2][:, 0].mean())"
   ]
  },
  {
   "cell_type": "code",
   "execution_count": null,
   "metadata": {},
   "outputs": [],
   "source": [
    "meanD1"
   ]
  },
  {
   "cell_type": "code",
   "execution_count": null,
   "metadata": {},
   "outputs": [],
   "source": [
    "for i in range(1,int(data.max().clusters)+1):\n",
    "    meanD1.append(X_projected[X_projected[ : , -1] == i][:, 0].mean())\n",
    "    meanD2.append(X_projected[X_projected[ : , -1] == i][:, 1].mean())"
   ]
  },
  {
   "cell_type": "code",
   "execution_count": null,
   "metadata": {},
   "outputs": [],
   "source": [
    "X_projected[X_projected[ : , -1] == i][:, 0].mean()"
   ]
  },
  {
   "cell_type": "code",
   "execution_count": null,
   "metadata": {},
   "outputs": [],
   "source": [
    "meanD1"
   ]
  },
  {
   "cell_type": "code",
   "execution_count": null,
   "metadata": {},
   "outputs": [],
   "source": []
  }
 ],
 "metadata": {
  "kernelspec": {
   "display_name": "Python 3",
   "language": "python",
   "name": "python3"
  },
  "language_info": {
   "codemirror_mode": {
    "name": "ipython",
    "version": 3
   },
   "file_extension": ".py",
   "mimetype": "text/x-python",
   "name": "python",
   "nbconvert_exporter": "python",
   "pygments_lexer": "ipython3",
   "version": "3.7.6"
  }
 },
 "nbformat": 4,
 "nbformat_minor": 4
}
